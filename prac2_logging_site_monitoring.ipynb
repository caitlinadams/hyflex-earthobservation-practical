{
 "cells": [
  {
   "cell_type": "markdown",
   "id": "db48afad-0d8c-4914-970e-66f7baeb5866",
   "metadata": {},
   "source": [
    "# Monitoring Logging Coupes in Victoria"
   ]
  },
  {
   "cell_type": "markdown",
   "id": "861b1ee6-a12c-40eb-8232-60daacfa64e1",
   "metadata": {},
   "source": [
    "## Set up your workspace"
   ]
  },
  {
   "cell_type": "code",
   "execution_count": null,
   "id": "ae0b2aec-9f91-4031-8068-8352eafc59f9",
   "metadata": {},
   "outputs": [],
   "source": [
    "import datacube\n",
    "import geopandas as gpd\n",
    "import pandas as pd\n",
    "\n",
    "from odc.algo import xr_geomedian\n",
    "from datacube.utils.geometry import Geometry\n",
    "\n",
    "from dea_tools.datahandling import load_ard\n",
    "from dea_tools.spatial import xr_rasterize\n",
    "\n",
    "from plotting_functions import plot_rgb_ndvi\n",
    "\n",
    "# Change a pandas setting to view all columns and all rows of loaded data\n",
    "pd.set_option('display.max_columns', None)\n",
    "pd.set_option(\"display.max_rows\", None)"
   ]
  },
  {
   "cell_type": "markdown",
   "id": "5ad85bb3-a483-4912-9af0-2e650889481f",
   "metadata": {},
   "source": [
    "## Load spatial file with coupes"
   ]
  },
  {
   "cell_type": "code",
   "execution_count": null,
   "id": "8902adc8-da96-4cc7-afb8-0534d92a9706",
   "metadata": {},
   "outputs": [],
   "source": [
    "log_season_gdf = gpd.read_file(\"data/LOG_SEASON_FILTERED.gpkg\")"
   ]
  },
  {
   "cell_type": "markdown",
   "id": "994e1e79-b812-465e-8796-bcb4899e469b",
   "metadata": {},
   "source": [
    "## Initial exploration"
   ]
  },
  {
   "cell_type": "code",
   "execution_count": null,
   "id": "bd55e546-1426-4185-a8df-b2fa2ff627d3",
   "metadata": {},
   "outputs": [],
   "source": [
    "log_season_gdf.head()"
   ]
  },
  {
   "cell_type": "markdown",
   "id": "9f9ed663-339d-4ced-98fa-db9910c3c8fd",
   "metadata": {},
   "source": [
    "## Analyse logging events from 2019"
   ]
  },
  {
   "cell_type": "code",
   "execution_count": null,
   "id": "f49683cf-f09f-4aa4-9720-024d3dc2c190",
   "metadata": {},
   "outputs": [],
   "source": [
    "# Restrict events to those that occurred during 2019\n",
    "\n",
    "logging_events_2019 = log_season_gdf.loc[log_season_gdf.loc[:, \"STARTYEAR_STRING\"]==\"2019\", :].reset_index(drop=True)"
   ]
  },
  {
   "cell_type": "code",
   "execution_count": null,
   "id": "0aa7d5cc-f2c9-4ddb-89a7-aca394bbda4c",
   "metadata": {},
   "outputs": [],
   "source": [
    "events_of_interest = {\n",
    "    \"Clearfelling\": \"14/770/507/0011/201920/00\",\n",
    "    \"Regrowth retention harvesting\": \"08/286/505/0029/201920/00\",\n",
    "    \"Variable retention 1\": \"16/686/510/0026/201920/00\",\n",
    "}"
   ]
  },
  {
   "cell_type": "code",
   "execution_count": null,
   "id": "fec19989-72dd-43ec-b2e5-a1164ca6712c",
   "metadata": {},
   "outputs": [],
   "source": [
    "logging_events_to_analyse = logging_events_2019.loc[logging_events_2019.loc[:, \"LOGHISTID\"].isin(list(events_of_interest.values())), :].reset_index(drop=True)\n",
    "\n",
    "logging_events_to_analyse"
   ]
  },
  {
   "cell_type": "markdown",
   "id": "f1172a63-b681-4a2e-9bd5-e7a3251fd589",
   "metadata": {},
   "source": [
    "### Extract satellite imagery"
   ]
  },
  {
   "cell_type": "code",
   "execution_count": null,
   "id": "c55419eb-aa6d-422c-8e04-f92ff54b2142",
   "metadata": {},
   "outputs": [],
   "source": [
    "dc = datacube.Datacube(app='Logging_analysis')"
   ]
  },
  {
   "cell_type": "code",
   "execution_count": null,
   "id": "fb8e11cc-3bcd-4bf0-8ce7-2c812153156d",
   "metadata": {},
   "outputs": [],
   "source": [
    "time_range = (\"2019-06-01\", \"2020-12-31\")\n",
    "\n",
    "products = [\"s2a_ard_granule\", \"s2b_ard_granule\"]\n",
    "measurements = [\"nbart_red\", \"nbart_green\", \"nbart_blue\", \"nbart_nir_1\"]\n",
    "resolution = (10, -10)\n",
    "output_crs = \"EPSG:3577\"\n",
    "min_gooddata=0.99\n",
    "\n",
    "query = {\n",
    "    \"time\": time_range,\n",
    "    \"measurements\": measurements,\n",
    "    \"min_gooddata\": min_gooddata,\n",
    "    \"resolution\": resolution,\n",
    "    \"output_crs\": \"EPSG:3577\",\n",
    "    \"group_by\": \"solar_day\"\n",
    "}"
   ]
  },
  {
   "cell_type": "code",
   "execution_count": null,
   "id": "84267494-1128-406d-9c00-9a70119e2056",
   "metadata": {},
   "outputs": [],
   "source": [
    "# Time taken: 5 mins\n",
    "\n",
    "event_imagery = {}\n",
    "\n",
    "for event_type, event_id in events_of_interest.items(): #logging_events_to_analyse.iterrows():\n",
    "    \n",
    "    print(f\"Analysing LOGHISTID {event_id}; Event type: {event_type}\")\n",
    "    \n",
    "    event = logging_events_to_analyse.loc[logging_events_to_analyse.LOGHISTID==event_id]\n",
    "\n",
    "    geometry = Geometry(geom=event.geometry.values[0], crs=logging_events_to_analyse.crs)\n",
    "    query.update({\"geopolygon\": geometry})\n",
    "\n",
    "    ds = load_ard(dc=dc,\n",
    "                  products=[\"s2a_ard_granule\", \"s2b_ard_granule\"],\n",
    "                  **query)\n",
    "\n",
    "    # Generate a polygon mask to keep only data within the polygon\n",
    "    mask = xr_rasterize(event, ds)\n",
    "\n",
    "    # Mask dataset to set pixels outside the polygon to `NaN`\n",
    "    ds = ds.where(mask)\n",
    "\n",
    "    # Group by 3 month intervals\n",
    "    grouped = ds.resample(time='3MS')\n",
    "    geomedian_grouped = grouped.map(xr_geomedian)\n",
    "    \n",
    "    # Calculate NDVI\n",
    "    geomedian_grouped[\"NDVI\"] = (geomedian_grouped.nbart_nir_1 - geomedian_grouped.nbart_red) / (geomedian_grouped.nbart_nir_1 + geomedian_grouped.nbart_red)\n",
    "    \n",
    "    event_imagery[event_type] = geomedian_grouped"
   ]
  },
  {
   "cell_type": "code",
   "execution_count": null,
   "id": "c3bc8c9e-23b7-4ea6-a04f-669258262e4a",
   "metadata": {},
   "outputs": [],
   "source": [
    "for event_type, event_data in event_imagery.items():\n",
    "    plot_rgb_ndvi(event_data, event_type)"
   ]
  },
  {
   "cell_type": "code",
   "execution_count": null,
   "id": "6f5161f7-39b5-439e-9b6a-d6fe10f8edb0",
   "metadata": {},
   "outputs": [],
   "source": [
    "import matplotlib.pyplot as plt\n",
    "\n",
    "labels = []\n",
    "\n",
    "fig, ax = plt.subplots(figsize=(12, 6))\n",
    "\n",
    "fig.suptitle(\"Change in NDVI over time for different logging events\", fontsize=16)\n",
    "\n",
    "for event_type, event_data in event_imagery.items():\n",
    "    event_data.NDVI.mean(dim=[\"x\", \"y\"]).plot(add_legend=False, ax=ax)\n",
    "    labels.append(event_type)\n",
    "\n",
    "plt.legend(labels, ncol=1)\n",
    "plt.show()\n"
   ]
  }
 ],
 "metadata": {
  "kernelspec": {
   "display_name": "Python 3 (ipykernel)",
   "language": "python",
   "name": "python3"
  },
  "language_info": {
   "codemirror_mode": {
    "name": "ipython",
    "version": 3
   },
   "file_extension": ".py",
   "mimetype": "text/x-python",
   "name": "python",
   "nbconvert_exporter": "python",
   "pygments_lexer": "ipython3",
   "version": "3.8.10"
  }
 },
 "nbformat": 4,
 "nbformat_minor": 5
}
