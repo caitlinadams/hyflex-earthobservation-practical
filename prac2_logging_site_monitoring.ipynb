{
 "cells": [
  {
   "cell_type": "markdown",
   "id": "db48afad-0d8c-4914-970e-66f7baeb5866",
   "metadata": {},
   "source": [
    "# Monitoring Logging Coupes in Victoria"
   ]
  },
  {
   "cell_type": "markdown",
   "id": "861b1ee6-a12c-40eb-8232-60daacfa64e1",
   "metadata": {},
   "source": [
    "## Set up your workspace"
   ]
  },
  {
   "cell_type": "code",
   "execution_count": null,
   "id": "ae0b2aec-9f91-4031-8068-8352eafc59f9",
   "metadata": {},
   "outputs": [],
   "source": [
    "import datacube\n",
    "import geopandas as gpd\n",
    "import pandas as pd\n",
    "\n",
    "from odc.algo import to_f32, xr_geomedian, int_geomedian\n",
    "from datacube.utils.geometry import Geometry, CRS\n",
    "\n",
    "from dea_tools.datahandling import load_ard\n",
    "from dea_tools.plotting import rgb\n",
    "from dea_tools.spatial import xr_rasterize\n",
    "\n",
    "pd.set_option('display.max_columns', None)"
   ]
  },
  {
   "cell_type": "markdown",
   "id": "5ad85bb3-a483-4912-9af0-2e650889481f",
   "metadata": {},
   "source": [
    "## Load spatial file with coupes"
   ]
  },
  {
   "cell_type": "code",
   "execution_count": null,
   "id": "8902adc8-da96-4cc7-afb8-0534d92a9706",
   "metadata": {},
   "outputs": [],
   "source": [
    "log_season_gdf = gpd.read_file(\"data/LOG_SEASON_FILTERED.gpkg\")"
   ]
  },
  {
   "cell_type": "markdown",
   "id": "994e1e79-b812-465e-8796-bcb4899e469b",
   "metadata": {},
   "source": [
    "## Initial exploration"
   ]
  },
  {
   "cell_type": "code",
   "execution_count": null,
   "id": "bd55e546-1426-4185-a8df-b2fa2ff627d3",
   "metadata": {},
   "outputs": [],
   "source": [
    "log_season_gdf.head()"
   ]
  },
  {
   "cell_type": "markdown",
   "id": "9f9ed663-339d-4ced-98fa-db9910c3c8fd",
   "metadata": {},
   "source": [
    "## Analyse logging event from 2019"
   ]
  },
  {
   "cell_type": "code",
   "execution_count": null,
   "id": "f49683cf-f09f-4aa4-9720-024d3dc2c190",
   "metadata": {},
   "outputs": [],
   "source": [
    "# Look for an event in 2019 to analyse\n",
    "\n",
    "logging_events_2019 = log_season_gdf.loc[log_season_gdf.loc[:, \"STARTYEAR_STRING\"]==\"2019\", :].reset_index(drop=True)"
   ]
  },
  {
   "cell_type": "code",
   "execution_count": null,
   "id": "8520b5e3-e4e9-4c3e-969b-be7d7f45774a",
   "metadata": {},
   "outputs": [],
   "source": [
    "event = logging_events_2019.iloc[[1], :]\n",
    "\n",
    "event"
   ]
  },
  {
   "cell_type": "markdown",
   "id": "f1172a63-b681-4a2e-9bd5-e7a3251fd589",
   "metadata": {},
   "source": [
    "### Extract satellite imagery"
   ]
  },
  {
   "cell_type": "code",
   "execution_count": null,
   "id": "c55419eb-aa6d-422c-8e04-f92ff54b2142",
   "metadata": {},
   "outputs": [],
   "source": [
    "dc = datacube.Datacube(app='Logging_analysis')"
   ]
  },
  {
   "cell_type": "code",
   "execution_count": null,
   "id": "fb8e11cc-3bcd-4bf0-8ce7-2c812153156d",
   "metadata": {},
   "outputs": [],
   "source": [
    "time_range = (\"2018\", \"2021\")\n",
    "\n",
    "products = [\"s2a_ard_granule\", \"s2b_ard_granule\"]\n",
    "measurements = [\"nbart_red\", \"nbart_green\", \"nbart_blue\", \"nbart_nir_1\"]\n",
    "resolution = (10, -10)\n",
    "output_crs = \"EPSG:3577\"\n",
    "min_gooddata=0.99\n",
    "\n",
    "geometry = Geometry(geom=event.geometry.item(), crs=logging_events_2019.crs)"
   ]
  },
  {
   "cell_type": "code",
   "execution_count": null,
   "id": "4e04fc63-e346-429d-8819-a31de7167ee6",
   "metadata": {},
   "outputs": [],
   "source": [
    "query = {\n",
    "    \"time\": time_range,\n",
    "    \"measurements\": measurements,\n",
    "    \"min_gooddata\": min_gooddata,\n",
    "    \"resolution\": resolution,\n",
    "    \"output_crs\": \"EPSG:3577\",\n",
    "    \"geopolygon\": geometry,\n",
    "    \"group_by\": \"solar_day\"\n",
    "}"
   ]
  },
  {
   "cell_type": "code",
   "execution_count": null,
   "id": "84267494-1128-406d-9c00-9a70119e2056",
   "metadata": {},
   "outputs": [],
   "source": [
    "ds = load_ard(dc=dc,\n",
    "              products=[\"s2a_ard_granule\", \"s2b_ard_granule\"],\n",
    "              **query)\n",
    "\n",
    "# Generate a polygon mask to keep only data within the polygon\n",
    "mask = xr_rasterize(event, ds)\n",
    "\n",
    "# Mask dataset to set pixels outside the polygon to `NaN`\n",
    "ds = ds.where(mask)\n",
    "\n",
    "ds"
   ]
  },
  {
   "cell_type": "code",
   "execution_count": null,
   "id": "b9f1f0c9-567a-4846-b5ac-687c0a9ba72d",
   "metadata": {},
   "outputs": [],
   "source": [
    "# Group by 2 month intervals\n",
    "grouped = ds.resample(time='2MS')"
   ]
  },
  {
   "cell_type": "code",
   "execution_count": null,
   "id": "77d84cf6-5d7b-4cf3-afae-68bd9844a142",
   "metadata": {},
   "outputs": [],
   "source": [
    "geomedian_grouped = grouped.map(xr_geomedian)"
   ]
  },
  {
   "cell_type": "code",
   "execution_count": null,
   "id": "82f382ea-cee9-4034-bce0-b1721ce37890",
   "metadata": {},
   "outputs": [],
   "source": [
    "rgb(geomedian_grouped, col=\"time\")"
   ]
  },
  {
   "cell_type": "code",
   "execution_count": null,
   "id": "f12cfd32-30a9-467c-8f48-d5938643a60b",
   "metadata": {},
   "outputs": [],
   "source": [
    "geomedian_grouped[\"NDVI\"] = (geomedian_grouped.nbart_nir_1 - geomedian_grouped.nbart_red) / (geomedian_grouped.nbart_nir_1 + geomedian_grouped.nbart_red)"
   ]
  },
  {
   "cell_type": "code",
   "execution_count": null,
   "id": "8dab4759-76de-4d39-bb45-2eb27eaaef87",
   "metadata": {},
   "outputs": [],
   "source": [
    "geomedian_grouped[\"NDVI\"].plot(col=\"time\", col_wrap=4)"
   ]
  },
  {
   "cell_type": "code",
   "execution_count": null,
   "id": "c48e686b-13e5-4d21-90e4-9e6f1aa2b12d",
   "metadata": {},
   "outputs": [],
   "source": [
    "geomedian_grouped[\"NDVI\"].mean(dim=[\"x\", \"y\"]).plot()"
   ]
  },
  {
   "cell_type": "code",
   "execution_count": null,
   "id": "d88de69e-14e1-431d-a77a-e11f3cd3c1fd",
   "metadata": {},
   "outputs": [],
   "source": []
  }
 ],
 "metadata": {
  "kernelspec": {
   "display_name": "Python 3 (ipykernel)",
   "language": "python",
   "name": "python3"
  },
  "language_info": {
   "codemirror_mode": {
    "name": "ipython",
    "version": 3
   },
   "file_extension": ".py",
   "mimetype": "text/x-python",
   "name": "python",
   "nbconvert_exporter": "python",
   "pygments_lexer": "ipython3",
   "version": "3.8.10"
  }
 },
 "nbformat": 4,
 "nbformat_minor": 5
}
