{
 "cells": [
  {
   "cell_type": "markdown",
   "id": "db48afad-0d8c-4914-970e-66f7baeb5866",
   "metadata": {},
   "source": [
    "# Analysing forest recovery after logging events - comparison with satellite data\n",
    "\n",
    "During the previous practical, you learned about the data that the Victorian Department of Energy, Environment and Climate Action keep on the management of logging coupes over time, and exported all the coupes that can be easily compared with satellite data from the Sentinel-2 constellation.\n",
    "\n",
    "Your team has reviewed your file and selected three known logging coupes, which they would like you to investigate. Each coupe uses a different type of silvicultural system for harvesting, and your team are curious about how these events show up in satellite data. \n",
    "\n",
    "In this practical, you'll load and view the satellite data associated with each logging event, both as an image, and using the normalised difference vegetation index (NDVI). You'll then view the time series of how NDVI is changing over time for each event. "
   ]
  },
  {
   "cell_type": "markdown",
   "id": "1115a72b-9a72-4c5a-8196-dd9231c9681f",
   "metadata": {},
   "source": [
    "## Overview\n",
    "\n",
    "During this activity, you will learn to\n",
    "\n",
    "* select specific rows from a table of geospatial data\n",
    "* load satellite data for the time and location corresponding to a given logging event\n",
    "* review satellite data, both as images and as timeseries\n",
    "\n",
    "Most of the Python code for loading and analysing satellite data has been provided for you, but there will be a number of opportunities to write your own code, as well as customise existing code to explore different results. The focus of this session is to review the results and think about what you can learn from satellite data.\n",
    "\n",
    "### Guiding text\n",
    "\n",
    "This practical contains a number of headings to help guide you. \n",
    "\n",
    "* <span style=\"color:blue;font-weight:bold\">Your task</span>: This indicates there is a task you must complete before proceeding. It will usually require you to add code or text before you can move on.\n",
    "* <span style=\"color:green;font-weight:bold\">Need some help?</span>: Your demonstrators are here to help -- this text is there to remind you to ask for help if you're not sure what you need to do. You can ask for help at any time.\n",
    "* <span style=\"color:orange;font-weight:bold\">Going further</span>: This indicates that there is an *optional* extension you can try if you've already completed the tasks.\n",
    "* **Code explanation**: The text following this header will provide you with more information about how the code works -- you only need to read this if you're interested.\n",
    "\n",
    "### Errors and warnings\n",
    "\n",
    "It is normal when developing and running Python code to encounter errors and warnings. If you see a red box containing text appear, it is an error or a warning, which is the computer's way of giving you feedback that something isn't quite right. Read the [common errors guide](error_guide.ipynb) to learn more about what might be causing the issue, and then try and resolve it on your own, or with help from your demonstrator.\n",
    "\n",
    "### Terminology\n",
    "\n",
    "In the previous practical, your colleagues provided some useful definitions:\n",
    "\n",
    "* [Silviculture](https://www.forestrycorporation.com.au/operations/silviculture) is the science of forestry.\n",
    "* A [coupe](https://www.vicforests.com.au/vicforest-forest-management/ops-planning/where-vicforests-operates/timber-release-plan) is a defined area in a forest that timber can be harvested from.\n",
    "* A [silvicultural system](https://www.fs.usda.gov/Internet/FSE_DOCUMENTS/fseprd530429.pdf) is the planned strategy for managing a coupe, including the harvesting and regeneration of timber."
   ]
  },
  {
   "cell_type": "markdown",
   "id": "861b1ee6-a12c-40eb-8232-60daacfa64e1",
   "metadata": {},
   "source": [
    "## Notebook setup\n",
    "\n",
    "In addition to `pandas` and `geopandas`, you'll now also need the `datacube` package; this is what lets you load satellite data. The other analyst on your team has also provided a number of extra functions that you'll use throughout the notebook.\n",
    "\n",
    "To run the code, click on the next cell, and press `Shift`+`Enter` on your keyboard."
   ]
  },
  {
   "cell_type": "code",
   "execution_count": null,
   "id": "ae0b2aec-9f91-4031-8068-8352eafc59f9",
   "metadata": {},
   "outputs": [],
   "source": [
    "# import key packages\n",
    "import datacube\n",
    "import geopandas\n",
    "import pandas\n",
    "import matplotlib.pyplot as plt\n",
    "\n",
    "# import extra functions\n",
    "from datacube.utils.geometry import Geometry\n",
    "from dea_tools.datahandling import load_ard\n",
    "from dea_tools.spatial import xr_rasterize\n",
    "from odc.algo import xr_geomedian\n",
    "from plotting_functions import plot_rgb_ndvi\n",
    "\n",
    "# Change a pandas setting to view all columns and all rows of loaded data\n",
    "pandas.set_option(\"display.max_columns\", None)\n",
    "pandas.set_option(\"display.max_rows\", None)"
   ]
  },
  {
   "cell_type": "markdown",
   "id": "5ad85bb3-a483-4912-9af0-2e650889481f",
   "metadata": {},
   "source": [
    "## Load the data\n",
    "\n",
    "In the last practical, you exported a file called \"LOG_SEASON_FILTERED.gpkg\". This contains all the logging events that can be matched with Sentinel-2 data. The **path** to the data is `\"LOG_SEASON_FILTERED.gpkg\"`.\n",
    "\n",
    "From the first practical, recall that you can use the `read_file` function from GeoPandas to load the data. You can read more about this function in the [geopandas documentation](https://geopandas.org/en/stable/docs/reference/api/geopandas.read_file.html#geopandas.read_file).\n",
    "\n",
    "### <span style=\"color:blue;font-weight:bold\">Your task</span>\n",
    "\n",
    "> Load the logging data using the `read_file` function from `geopandas` and assign the loaded data to a variable called `logging_season_data`. Then, use the empty cell below it to view the **first 5 rows** of the data.\n",
    ">\n",
    "> What's provided:\n",
    "> * The variable you'll assign the data to: `logging_season_data`.\n",
    "> * The `=` sign that will assign the results of any code that comes after it to the variable.\n",
    "> * An empty cell you can use to view the first 5 rows of the data.\n",
    ">\n",
    "> What you'll need to add:\n",
    "> * After the `=` sign, type `geopandas.read_file()` to call the function.\n",
    "> * Inside the `()` for the function, type the path to the file: `\"LOG_SEASON_FILTERED.gpkg\"`\n",
    "> * In the empty cell, type the geopandas function for viewing the first 5 rows of the data. If you're not sure what the function is, open the previous practical and review the second task.\n",
    ">\n",
    ">After adding the required code to the cell below, run the cells by clicking on each cell and pressing `Shift`+`Enter` on your keyboard.\n",
    "\n",
    "### <span style=\"color:green;font-weight:bold\">Need some help?</span>\n",
    "> If you see a <span style=\"color:red\">NameError</span>, make sure you have included double quotes (`\" \"`) around the name of the file.\n",
    "> \n",
    ">If you're not sure what to do, get in touch with a demonstrator (in the room or online) and show them your screen to talk through what you've tried and what the next step might be."
   ]
  },
  {
   "cell_type": "code",
   "execution_count": null,
   "id": "8902adc8-da96-4cc7-afb8-0534d92a9706",
   "metadata": {},
   "outputs": [],
   "source": [
    "logging_season_data ="
   ]
  },
  {
   "cell_type": "code",
   "execution_count": null,
   "id": "0d338369-60b4-471e-8b4d-1127672283cf",
   "metadata": {},
   "outputs": [],
   "source": [
    "# View the first five rows using the head() method\n"
   ]
  },
  {
   "cell_type": "markdown",
   "id": "994e1e79-b812-465e-8796-bcb4899e469b",
   "metadata": {},
   "source": [
    "## Select logging coupes for analysis\n",
    "\n",
    "Your team has identified three logging coupes for you to investigate, with each coupe demonstrating a different silvicultural system. They have provided you with the event LOGHISTID values so that you can select them from the filtered data you created during the previous practical:\n",
    "\n",
    "* **Clearfelling system**: \"14/770/507/0011/201920/00\"\n",
    "* **Regrowth retention harvesting system**: \"08/286/505/0029/201920/00\"\n",
    "* **Variable retention 1 system**: \"16/686/510/0026/201920/00\"\n",
    "\n",
    "Your colleague has provided these  LOGHISTID values as a Python [dictionary](https://www.w3schools.com/python/python_dictionaries.asp), and has provided some code to only select the rows in your dataset with these LOGHISTID values. Run the cells below, and then complete the exercise."
   ]
  },
  {
   "cell_type": "code",
   "execution_count": null,
   "id": "e749104b-b9f0-4316-8dbc-3602d1429aa3",
   "metadata": {},
   "outputs": [],
   "source": [
    "# Store the events of interest in a Python dictionary\n",
    "events_of_interest = {\n",
    "    \"Clearfelling\": \"14/770/507/0011/201920/00\",\n",
    "    \"Regrowth retention harvesting\": \"08/286/505/0029/201920/00\",\n",
    "    \"Variable retention 1\": \"16/686/510/0026/201920/00\",\n",
    "}\n",
    "\n",
    "# Get a list containing the IDs from the dictionary\n",
    "event_ids = list(events_of_interest.values())\n",
    "\n",
    "# Identify the rows that correspond to the IDs in the list\n",
    "rows_of_interest = logging_season_data.loc[:, \"LOGHISTID\"].isin(event_ids)\n",
    "\n",
    "# Make a new table only containing the rows of interest\n",
    "logging_events_to_analyse = logging_season_data.loc[rows_of_interest, :].reset_index(drop=True)\n",
    "\n",
    "# View the new table\n",
    "logging_events_to_analyse"
   ]
  },
  {
   "cell_type": "markdown",
   "id": "52319ee4-3b59-42dd-9f4b-b27241dcc516",
   "metadata": {},
   "source": [
    "**Code explanation**\n",
    "\n",
    "> The above code uses two `GeoDataFrame` methods: `loc[]` and `isin()`. You can review all methods in the [GeoPandas documentation](https://geopandas.org/en/stable/docs/reference/api/geopandas.GeoDataFrame.html).\n",
    "> \n",
    "> * `loc[row, column]` selects the data from the provided `row` and `column` values. Providing a value of `:` selects everything\n",
    "> * `isin(list)` produces a value of `True` or `False` for each row depending on whether the row contains text that appears in the `list`."
   ]
  },
  {
   "cell_type": "markdown",
   "id": "78ba1e45-0d1b-47ad-914e-b6ac585086ea",
   "metadata": {},
   "source": [
    "### Exercise: Reviewing the events\n",
    "\n",
    "Your team is interested in the answers to the following questions:\n",
    "\n",
    "* **Question 1**: What is the **earliest start date** across the three events?\n",
    "* **Question 2**: What is the **latest end date** across the three events?\n",
    "* **Question 3**: Which **forest type** was harvested in all three events?\n",
    "\n",
    "### <span style=\"color:blue;font-weight:bold\">Your task</span>\n",
    "> Review the table of selected events above, and answer the questions below.\n",
    ">\n",
    ">Double click the text below to add your answers."
   ]
  },
  {
   "cell_type": "markdown",
   "id": "11095656-0517-48c2-ad16-95828dceded8",
   "metadata": {},
   "source": [
    "### Your answers\n",
    "\n",
    "**Question 1**: \n",
    "\n",
    "**Question 2**:\n",
    "\n",
    "**Question 3**:"
   ]
  },
  {
   "cell_type": "markdown",
   "id": "9f9ed663-339d-4ced-98fa-db9910c3c8fd",
   "metadata": {},
   "source": [
    "## Loading satellite data for each event\n",
    "\n",
    "### Connecting to the datacube and constructing the query\n",
    "\n",
    "In the next cell, your colleauge has provided you with the code to connect to the datacube, and some recommended settings for loading the data. The recommended settings are as follows:\n",
    "\n",
    "* **time_range**: The date range to search for data over. Your colleague suggests looking at events sometime before and after the actual events.\n",
    "* **products**: the satellite data to load from. `\"ga_s2am_ard_3\"` is the analysis-ready data product for Sentinel-2A, and `\"ga_s2bm_ard_3\"` is the analysis-ready data product for Sentinel-2B.\n",
    "* **measurements**: the Sentinel-2 bands to load. The `nbart_` prefix has to do with how the data have been processed. For visual interpretation, you need the red, green and blue bands. For calculating NDVI, you need the red and near-infrared (`nir_1`) bands.\n",
    "* **resolution**: the resolution (in metres) for each pixel in the image. The first number (`10`) specifies 10m in the horizonal direction, and the second number (`-10`) specifies 10m in the vertical direction.\n",
    "* **output_crs**: the coordinate reference system (CRS) to use for the loaded data. [EPSG:3577](https://epsg.io/3577) is the Australian Albers equal-area projection.\n",
    "* **min_gooddata**: The proportion of pixels in the image that must be good quality (i.e. not cloudy) for the whole image to be loaded. This makes sure we only load data with minimal cloud coverage. "
   ]
  },
  {
   "cell_type": "code",
   "execution_count": null,
   "id": "fb8e11cc-3bcd-4bf0-8ce7-2c812153156d",
   "metadata": {},
   "outputs": [],
   "source": [
    "# Connect to the datacube\n",
    "dc = datacube.Datacube(app=\"Logging_analysis\")\n",
    "\n",
    "# Recommended settings\n",
    "time_range = (\"2019-06-01\", \"2020-12-31\")\n",
    "products = [\"ga_s2am_ard_3\", \"ga_s2bm_ard_3\"]\n",
    "measurements = [\"nbart_red\", \"nbart_green\", \"nbart_blue\", \"nbart_nir_1\"]\n",
    "resolution = (10, -10)\n",
    "output_crs = \"EPSG:3577\"\n",
    "min_gooddata = 0.99"
   ]
  },
  {
   "cell_type": "markdown",
   "id": "80aed65c-1a4d-426a-bf39-8939592e2307",
   "metadata": {},
   "source": [
    "### Loading data\n",
    "\n",
    "The next cell contains multiple steps that are used to load the data for each event. This is done by using a Python [for loop](https://www.w3schools.com/python/python_for_loops.asp), which loads data for each event in turn, and stores the outputs.\n",
    "\n",
    "> **The data loading step will take 5 minutes!** \n",
    "\n",
    "Please be patient and keep an eye on the output. While you are waiting, you can read more about the steps involved. The steps are described below the next cell. You will know the code has finished running when you see the message \"All data loading is complete! You can progress to the next step.\" in the output.\n",
    "\n",
    "> **When running the code, the following warning may appear**: `/env/lib/python3.8/site-packages/rasterio/warp.py:344: NotGeoreferencedWarning: Dataset has no geotransform, gcps, or rpcs. The identity matrix will be returned.\n",
    "  _reproject(`. This occasionally happens when loading data and you don't need to worry.\n",
    "\n",
    "Run the code cell below, then scroll down to read about the steps while the data loads."
   ]
  },
  {
   "cell_type": "code",
   "execution_count": null,
   "id": "84267494-1128-406d-9c00-9a70119e2056",
   "metadata": {},
   "outputs": [],
   "source": [
    "# Add the settings into a dictionary, which can be used for all three events.\n",
    "query = {\n",
    "    \"time\": time_range,\n",
    "    \"products\": products,\n",
    "    \"measurements\": measurements,\n",
    "    \"resolution\": resolution,\n",
    "    \"output_crs\": output_crs,\n",
    "    \"min_gooddata\": min_gooddata,\n",
    "    \"group_by\": \"solar_day\",\n",
    "}\n",
    "\n",
    "# Create empty dictionary to store results in\n",
    "event_data = {}\n",
    "\n",
    "# Run the for loop, applying the code to each pair of event_type and event_id in the events_of_interest dictionary\n",
    "for (event_type, event_id) in events_of_interest.items():\n",
    "\n",
    "    print(f\"Analysing LOGHISTID {event_id}; Event type: {event_type}\")\n",
    "\n",
    "    # Select the row corresponding to the LOGHISTID value\n",
    "    event = logging_events_to_analyse.loc[logging_events_to_analyse.LOGHISTID == event_id]\n",
    "\n",
    "    # Get the polygon geometry for the event and add it to the query\n",
    "    geometry = Geometry(geom=event.geometry.values[0], crs=logging_events_to_analyse.crs)\n",
    "    query.update({\"geopolygon\": geometry})\n",
    "\n",
    "    # Load the data using the query\n",
    "    ds = load_ard(dc=dc, **query)\n",
    "\n",
    "    # Generate a polygon mask to keep only data within the polygon and apply the mask\n",
    "    mask = xr_rasterize(event, ds)\n",
    "    ds = ds.where(mask)\n",
    "\n",
    "    # Group by 3 month intervals and calculate a composite dataset using the geomedian\n",
    "    grouped = ds.resample(time=\"3MS\")\n",
    "    composite = grouped.map(xr_geomedian)\n",
    "\n",
    "    # Calculate NDVI using (NIR - Red)/(NIR + Red)\n",
    "    composite[\"NDVI\"] = (composite.nbart_nir_1 - composite.nbart_red) / (composite.nbart_nir_1 + composite.nbart_red)\n",
    "\n",
    "    # Store the results in the event_data dictionary\n",
    "    event_data[event_type] = composite\n",
    "    \n",
    "    print(\"\\n\")\n",
    "    \n",
    "print(\"All data loading is complete! You can progress to the next step.\")"
   ]
  },
  {
   "cell_type": "markdown",
   "id": "7f7a5943-6982-499e-bdd1-9a6e8fd8f917",
   "metadata": {},
   "source": [
    "**Code Explanation**\n",
    "\n",
    "> The Python [for loop](https://www.w3schools.com/python/python_for_loops.asp) allows us to repeat the same set of actions for each event. The actions are:\n",
    ">\n",
    "> 1. **Select the row corresponding to the LOGHISTID value.**\n",
    ">\n",
    "> 2. **Get the polygon geometry for the event and add it to the query.** This means the datacube will only return data relevent to the event area.\n",
    ">\n",
    "> 3. **Load the data useing the query.** The `load_ard()` function takes the datacube connection and the query, and loads the relevent data. You can read more about this function in the [Digital Earth Australia documentation](https://docs.dea.ga.gov.au/notebooks/Tools/gen/dea_tools.datahandling.html#dea_tools.datahandling.load_ard).\n",
    "> \n",
    "> 4. **Generate a polygon mask to keep only data within the polygon and apply the mask.** This maps the geometry to a raster with ones and zeros, where ones correspond to pixels within the area of interest, and zeros correspond to areas outside the area of interest. This will allow us to isolate out pixels corresponding to the logging event.\n",
    "> \n",
    "> 5. **Group by three month intervals and calculate a composite dataset using the geomedian.** This step allows us to create a representative dataset over a three month period, by selecting the median pixel value from all values loaded for that period. In this case, we use a special type of median, called the geomedian. You can read more about it in the [Digital Earth Africa documentation](https://docs.digitalearthafrica.org/en/latest/data_specs/GeoMAD_specs.html#Geomedian). The date for geomedian measurement is the middle of the three month period.\n",
    "> \n",
    "> 6. **Calculate NDVI using (NIR - Red)/(NIR + Red)**. This step takes the loaded red and near-infrared bands from the composite and calculates the corresponding NDVI values. NDVI is a satellite band index that indicates the presence of vegetation, with values ranging from -1 to 1. Higher values typically correspond to dense, green vegetation.\n",
    "> \n",
    "> 7. **Store the results in the event_data dictionary**. This step allows us to store the data for each event and use it for our analysis."
   ]
  },
  {
   "cell_type": "markdown",
   "id": "ee2244e1-1588-4dc9-9f2f-3217455c2ed5",
   "metadata": {},
   "source": [
    "## Visualising loaded data\n",
    "\n",
    "### Spatial time series\n",
    "Writing code to plot data in Python can be time-consuming to develop, so your colleague has dug out an old function they once made to help you. The function is called `plot_rgb_ndvi()` and it takes two arguments: the first is the event data and the second is the name of the event type to use as a title. It will show the visual image of the logging area (the combination of red, green and blue bands) on the left-hand side, and the corresponding NDVI values on the right hand side. It will plot each composite that was generated, one after the other.\n",
    "\n",
    "Run the following cell to view the RGB and NDVI images for each logging event.\n",
    "\n",
    "### <span style=\"color:orange;font-weight:bold\">Going further</span>\n",
    "> This is an optional exercise to further your own understanding. There are no questions to answer for this component.\n",
    "> \n",
    "> What are the different steps involved in creating these visualisations? Review the plotting function created by your colleague in the [plotting_functions.py file](./plotting_functions.py)"
   ]
  },
  {
   "cell_type": "code",
   "execution_count": null,
   "id": "c3bc8c9e-23b7-4ea6-a04f-669258262e4a",
   "metadata": {},
   "outputs": [],
   "source": [
    "# Plot RGB and NDVI for the event areas\n",
    "for event_type, event_ds in event_data.items():\n",
    "    plot_rgb_ndvi(event_ds, event_type)"
   ]
  },
  {
   "cell_type": "markdown",
   "id": "774985d4-ebb1-44ed-82c3-81b5710453f1",
   "metadata": {},
   "source": [
    "### Summary time series\n",
    "\n",
    "Your colleague has provided additional code to calculate and plot the average NDVI value for each composite, which will allow you to see the general trend in the presence of vegetation for the three events.\n",
    "\n",
    "Run the cell below to view the average NDVI over time."
   ]
  },
  {
   "cell_type": "code",
   "execution_count": null,
   "id": "6f5161f7-39b5-439e-9b6a-d6fe10f8edb0",
   "metadata": {},
   "outputs": [],
   "source": [
    "# Store the plot labels to add at the end\n",
    "labels = []\n",
    "\n",
    "# Create the figure\n",
    "fig, ax = plt.subplots(figsize=(12, 6))\n",
    "\n",
    "# Add a title\n",
    "fig.suptitle(\"Change in NDVI over time for different logging events\", fontsize=16)\n",
    "\n",
    "# Plot the mean (average) NDVI for each event\n",
    "for event_type, event_ds in event_data.items():\n",
    "    event_ds.NDVI.mean(dim=[\"x\", \"y\"]).plot(add_legend=False, ax=ax)\n",
    "    labels.append(event_type)\n",
    "\n",
    "# Add the labels and display the plot\n",
    "plt.legend(labels, ncol=1, fontsize=12)\n",
    "plt.show()"
   ]
  },
  {
   "cell_type": "markdown",
   "id": "0d537592-e9e2-48bb-8251-bccc46dfa572",
   "metadata": {},
   "source": [
    "## Analysis\n",
    "\n",
    "Congratulations! You have successfully loaded and visualised satellite data for the three logging events! Now, your colleagues are curious to know what you found.\n",
    "\n",
    "Your team ask you to report back on the following:\n",
    "\n",
    "* **Question 1**: In 1-2 sentences, describe one similarity you noticed between the three events when looking at the RGB and NDVI spatial time series.\n",
    "* **Question 2**: In 1-2 sentences, describe one difference you noticed between the three events when looking at the RGB and NDVI spatial time series.\n",
    "* **Question 3**: When looking at the summary time series for the Clearfelling event, around what month and year would you say the Clearfelling began? Is this consistent with the start date in the event table you created when [selecting logging coupes for analysis](#Select-logging-coupes-for-analysis)? Why or why not?\n",
    "\n",
    "### <span style=\"color:blue;font-weight:bold\">Your task</span>\n",
    "> Review the spatial and summary time series, and answer the analysis questions below.\n",
    "> Double click the text below to add your answers.\n",
    "\n",
    "### <span style=\"color:green;font-weight:bold\">Need some help?</span>\n",
    ">If you have any questions about interpreting the plots, get in touch with a demonstrator (in the room or online) and show them your screen to talk through what you're thinking."
   ]
  },
  {
   "cell_type": "markdown",
   "id": "e77538e0-86e1-47c0-886f-a52ef7af7cce",
   "metadata": {},
   "source": [
    "### Your answers\n",
    "\n",
    "**Question 1**: \n",
    "\n",
    "**Question 2**:\n",
    "\n",
    "**Question 3**:"
   ]
  },
  {
   "cell_type": "markdown",
   "id": "95a13ed1-9e52-4c09-b9f6-44ebdd7c27df",
   "metadata": {},
   "source": [
    "## Submit your work\n",
    "\n",
    "1. Ensure you have added answers to all the questions and save your file (in the menu bar, click File > Save Notebook).\n",
    "\n",
    "2. In the file browser, right-click the `prac2_logging_site_monitoring.ipynb` file, and press \"Download\"\n",
    "\n",
    "3. Email the downloaded file to caitlinisabeladams@swin.edu.au"
   ]
  }
 ],
 "metadata": {
  "kernelspec": {
   "display_name": "Python 3 (ipykernel)",
   "language": "python",
   "name": "python3"
  },
  "language_info": {
   "codemirror_mode": {
    "name": "ipython",
    "version": 3
   },
   "file_extension": ".py",
   "mimetype": "text/x-python",
   "name": "python",
   "nbconvert_exporter": "python",
   "pygments_lexer": "ipython3",
   "version": "3.8.10"
  }
 },
 "nbformat": 4,
 "nbformat_minor": 5
}
