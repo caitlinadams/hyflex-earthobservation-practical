{
 "cells": [
  {
   "cell_type": "markdown",
   "id": "c95419fc-1662-4555-be34-c358aaac6aef",
   "metadata": {},
   "source": [
    "# More Python\n",
    "\n",
    "This document covers some more advanced Python concepts that we will make use of in the lab. The exercises in this document are **optional** and are an opportunity for you to extend your learning."
   ]
  },
  {
   "cell_type": "markdown",
   "id": "1076c4c6-31f2-42f5-9fca-33caada1c6b4",
   "metadata": {
    "tags": []
   },
   "source": [
    "## Defining variables\n",
    "\n",
    "Before working on the excersises, you'll need to redefine the variables for the different city populations. Run the cell below to do this."
   ]
  },
  {
   "cell_type": "code",
   "execution_count": null,
   "id": "7bf75676-2b5b-4ea3-81e4-5cc7dc19a9c1",
   "metadata": {
    "tags": []
   },
   "outputs": [],
   "source": [
    "# 2021 greater city populations\n",
    "melbourne_population_2021 = 4917750\n",
    "sydney_population_2021 = 5231147\n",
    "adelaide_population_2021 = 1387290\n",
    "perth_population_2021 = 2116647"
   ]
  },
  {
   "cell_type": "markdown",
   "id": "e50429df-4a73-4d16-b74f-17c8b0b2dff4",
   "metadata": {
    "tags": []
   },
   "source": [
    "## Functions and arguments\n",
    "\n",
    "**Functions** are a valuable tool for re-using pieces of code. Like in mathematics, **functions** take inputs (called **arguments**) and return an output. \n",
    "\n",
    "For example, we could write a function to calculate the difference between the population of two cities using the following code:"
   ]
  },
  {
   "cell_type": "code",
   "execution_count": null,
   "id": "f156acbe-e074-4015-b6b5-dea367aa6f7b",
   "metadata": {},
   "outputs": [],
   "source": [
    "def pop_diff(big_city, little_city):\n",
    "    difference = big_city - little_city\n",
    "    return difference"
   ]
  },
  {
   "cell_type": "markdown",
   "id": "3a698723-bae5-4e40-bbcb-ba24d3c67888",
   "metadata": {},
   "source": [
    "* `def` indicates we are **defining** a function\n",
    "* `pop_diff` is the **name** of the function\n",
    "* `()` is used to capture the **arguments** of the function\n",
    "* `big_city` is the **first argument**\n",
    "* `little_city` is the **second argument**\n",
    "* `return` is used to send the **output** of the function back to the user\n",
    "\n",
    "After defining the function, it can be called directly with chosen inputs. Run the cell below to define and run the function for Sydney and Melbourne:"
   ]
  },
  {
   "cell_type": "code",
   "execution_count": null,
   "id": "05ee0259-3e67-44b4-8a64-366b0f841aec",
   "metadata": {
    "tags": []
   },
   "outputs": [],
   "source": [
    "def pop_diff(big_city, little_city):\n",
    "    difference = big_city - little_city\n",
    "    return difference\n",
    "\n",
    "pop_diff(sydney_population_2021, melbourne_population_2021)"
   ]
  },
  {
   "cell_type": "markdown",
   "id": "fa7c32eb-6f1d-4c35-afc5-73807c1c4034",
   "metadata": {
    "tags": []
   },
   "source": [
    "### <span style=\"color:blue;font-weight:bold\">Exercise</span>\n",
    "\n",
    ">Using the `pop_diff` function, calculate the difference in population between Perth and Adelaide."
   ]
  },
  {
   "cell_type": "code",
   "execution_count": null,
   "id": "bc26d056-149a-42a7-8082-342c2e373b6e",
   "metadata": {},
   "outputs": [],
   "source": [
    "# Use the pop_diff function to calculate the diffference in population between Perth and Adelaide\n"
   ]
  },
  {
   "cell_type": "markdown",
   "id": "52b393f7-6f16-4287-abe0-92ad5c643ca2",
   "metadata": {},
   "source": [
    "### <span style=\"color:green;font-weight:bold\">Need some help?</span>\n",
    "\n",
    "> If you're not sure what to do, get in touch with a demonstrator (in the room or online) and show them your screen to talk through what you've tried and what the next step might be."
   ]
  },
  {
   "cell_type": "markdown",
   "id": "bcd3a210-af72-4b56-8ecd-15597e18c1e3",
   "metadata": {},
   "source": [
    "## Data structures\n",
    "\n",
    "In Python, it can be useful to group variables and values into a data structure. Python has special objects called **lists** and **dictionaries** that can be used to organise variables and values.\n",
    "\n",
    "### List\n",
    "A **list** is a collection of variables. For exmaple, we could store Melbourne and Sydney's populations in a list called `city_populations_2021_list` using the following code:\n",
    "\n",
    "`city_populations_2021_list = [melbourne_population_2021, sydney_population_2021]`\n",
    "* the `[]` operators create the list\n",
    "* the `,` operator separates the **elements** in the list\n",
    "\n",
    "### Dictionary\n",
    "A **dictionary** is similar to a list, but allows you to tag **values** or **variables** to a **key**, which can be easily accessed later. For example, we could store Melbourne and Sydney's populations in a dictionary called `city_populations_2021_dict` using the following code:\n",
    "\n",
    "`city_populations_2021_dict = {\"Melbourne\": melbourne_population_2021, \"Sydney\": sydney_population_2021}`\n",
    "* the `{}` operators create the dictionary\n",
    "* the `,` operator separates the **items** in the dictionary\n",
    "* the `\"\"` operators allow us to use text-based values called **strings**\n",
    "* the `:` operator links a **key** to a **value** in the form `key: value`\n",
    "\n"
   ]
  },
  {
   "cell_type": "code",
   "execution_count": null,
   "id": "b12c0644-64aa-4898-990d-54780ef888d2",
   "metadata": {
    "tags": []
   },
   "outputs": [],
   "source": [
    "# Store populations in a list\n",
    "city_populations_2021_list = [melbourne_population_2021, sydney_population_2021]\n",
    "\n",
    "# Store populations in a dictionary\n",
    "city_populations_2021_dict = {\"Melbourne\": melbourne_population_2021, \"Sydney\": sydney_population_2021}"
   ]
  },
  {
   "cell_type": "markdown",
   "id": "95dc5340-df1c-4798-bcdc-22d1a2826884",
   "metadata": {},
   "source": [
    "### Accessing information from  data structures\n",
    "\n",
    "For a list, you can access any value by using the position of that value in the list. Noting that **Python begins counting at 0**, the first element in the list can be accessed with the following code:\n",
    "`city_populations_2021_list[0]`"
   ]
  },
  {
   "cell_type": "code",
   "execution_count": null,
   "id": "2c353215-f311-4abb-8d1e-0d9bc7a8985c",
   "metadata": {
    "tags": []
   },
   "outputs": [],
   "source": [
    "city_populations_2021_list[0]"
   ]
  },
  {
   "cell_type": "markdown",
   "id": "4b9f28d5-703d-4f9c-a6fd-f914cd6af7ff",
   "metadata": {},
   "source": [
    "For a dictionary, you can access any value by using the **key**. For example, Melbourne's population can be accessed with the following code:\n",
    "`city_populations_2021_dict[\"Melbourne\"]`"
   ]
  },
  {
   "cell_type": "code",
   "execution_count": null,
   "id": "80e2ab19-b003-4c64-8222-a847451b904d",
   "metadata": {
    "tags": []
   },
   "outputs": [],
   "source": [
    "city_populations_2021_dict[\"Melbourne\"]"
   ]
  },
  {
   "cell_type": "markdown",
   "id": "74146f93-2ef0-4ef6-9de7-c399b74a69da",
   "metadata": {},
   "source": [
    "## Classes and methods\n",
    "\n",
    "**Lists** and **dictionaries** are known as Python **classes**, which means they are a special type of object that come with special operations called **methods**. **Methods** are **functions** that belong to a **class**. \n",
    "\n",
    "The [**methods** for **lists**](https://www.w3schools.com/python/python_ref_list.asp) include:\n",
    "* `append()` - add an element to the end of the list\n",
    "* `sort()` - sort the list\n",
    "\n",
    "The [**methods** for **dictionaries**](https://www.w3schools.com/python/python_ref_dictionary.asp) include:\n",
    "* `items()` - return a list containing all key-value pairs in the dictionary\n",
    "* `values()` - return a list containing all the values in the dictionary\n",
    "\n",
    "To use a **method**, you type the name of the object, followed by `.`, then the name of the method. For example, to display all the key-value pairs in our `city_populations_2021_dict` dictionary, we would use the following code:\n",
    "\n",
    "`city_populations_2021_dict.items()`"
   ]
  },
  {
   "cell_type": "code",
   "execution_count": null,
   "id": "c132f8fb-b58b-4f8a-b018-27392b18d715",
   "metadata": {
    "tags": []
   },
   "outputs": [],
   "source": [
    "city_populations_2021_dict.items()"
   ]
  },
  {
   "cell_type": "markdown",
   "id": "831adb3e-e33d-42ad-bae2-870fa9afe280",
   "metadata": {},
   "source": [
    "### <span style=\"color:blue;font-weight:bold\">Exercise</span>\n",
    "\n",
    "> Using the `append` method, add the population value for Perth to `city_populations_2021_list`, then display the list"
   ]
  },
  {
   "cell_type": "code",
   "execution_count": null,
   "id": "d33c6f6a-93ea-4ec9-b9e3-6e2dd7ceae7f",
   "metadata": {
    "tags": []
   },
   "outputs": [],
   "source": [
    "# Using the append method, add the population value for Perth to city_populations_2021_list\n",
    "\n",
    "\n",
    "# Display the list\n"
   ]
  },
  {
   "cell_type": "markdown",
   "id": "34c39b0d-f53d-4a8e-b01e-8fd3aa2ca813",
   "metadata": {},
   "source": [
    "### <span style=\"color:green;font-weight:bold\">Need some help?</span>\n",
    "\n",
    "> If you're not sure what to do, get in touch with a demonstrator (in the room or online) and show them your screen to talk through what you've tried and what the next step might be."
   ]
  },
  {
   "cell_type": "markdown",
   "id": "dfc4becb-bac3-4731-95f9-74df721857db",
   "metadata": {},
   "source": [
    "## Congratulations!\n",
    "\n",
    "Well done on completing this notebook. You have learned:\n",
    "* How to define and use a function\n",
    "* Two of Python's data structures: lists and dictionaries\n",
    "* What a class is\n",
    "* What methods are\n",
    "* How to call a class's method\n",
    "\n",
    "You now know the advanced concepts that will come up during the labs."
   ]
  }
 ],
 "metadata": {
  "kernelspec": {
   "display_name": "Python 3 (ipykernel)",
   "language": "python",
   "name": "python3"
  },
  "language_info": {
   "codemirror_mode": {
    "name": "ipython",
    "version": 3
   },
   "file_extension": ".py",
   "mimetype": "text/x-python",
   "name": "python",
   "nbconvert_exporter": "python",
   "pygments_lexer": "ipython3",
   "version": "3.8.10"
  }
 },
 "nbformat": 4,
 "nbformat_minor": 5
}
