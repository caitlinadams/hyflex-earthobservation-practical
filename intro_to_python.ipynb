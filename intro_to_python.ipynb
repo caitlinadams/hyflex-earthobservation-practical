{
 "cells": [
  {
   "cell_type": "markdown",
   "id": "a492e9ab-e844-4b54-810c-f69faab24f26",
   "metadata": {},
   "source": [
    "# Introduction to Python and Jupyter Notebooks"
   ]
  },
  {
   "cell_type": "markdown",
   "id": "03a5da76-a980-40dd-ad18-b1a560036021",
   "metadata": {},
   "source": [
    "## Working with Jupyter Notebooks"
   ]
  },
  {
   "cell_type": "markdown",
   "id": "80815a64-a229-4ae1-82b6-ef12a4ffeeba",
   "metadata": {},
   "source": [
    "This type of document is called a Jupyter Notebook - it allows you to have text and code side-by-side. \n",
    "\n",
    "### Coding in notebooks\n",
    "\n",
    "Code can be run in special sections of the notebook called **code cells**. A code cell looks like this:"
   ]
  },
  {
   "cell_type": "code",
   "execution_count": null,
   "id": "b833e76a-7c67-4f25-81be-8b6c97b7575b",
   "metadata": {},
   "outputs": [],
   "source": [
    "# This is a code cell\n"
   ]
  },
  {
   "cell_type": "markdown",
   "id": "1e5d8f0e-0d5b-42ae-945d-f0573f617bf3",
   "metadata": {},
   "source": [
    "Some important features of code cells:\n",
    "\n",
    "* You can include comments using the `#` symbol. Comments aren't active pieces of code, and they will not trigger any actions by the computer. Comments can provide helpful information about the code. In these exercises, comments may be used to provide you with additional instructions.\n",
    "* You can run any code contained in the cell by clicking the cell and pressing **Shift + Enter** on your keyboard\n",
    "\n",
    "If you do run the cell above, nothing will happen, as there is no active code. The remainder of this exercise will teach you to write and run Python code in these cells."
   ]
  },
  {
   "cell_type": "markdown",
   "id": "c206b66c-3b4e-4e00-9aa0-7ea04b0dd45d",
   "metadata": {},
   "source": [
    "## Creating variables\n",
    "\n",
    "When coding, we often want to work with many different pieces of information and data. To keep track of these, we **assign** the information to **variables**. \n",
    "\n",
    "For example, at the time of the [2021 Australian Census](https://www.abs.gov.au/statistics/people/people-and-communities/location-census/latest-release), Greater Melbourne had a population of 4,917,750. We can store this information as follows:\n",
    "\n",
    "`melbourne_population_2021 = 4917750`\n",
    "\n",
    "* `melbourne_population_2021` is the **variable**. It has a descriptive name, so we can remember what it represents.\n",
    "* `4917750` is the **value**. \n",
    "* `=` is the **assignment operator**. It sets the value of `melbourne_population_2021` to `4917750`"
   ]
  },
  {
   "cell_type": "markdown",
   "id": "abd9e34a-7685-478a-b376-0f573c609287",
   "metadata": {},
   "source": [
    "### <span style=\"color:blue;font-weight:bold\">Exercise</span>\n",
    "\n",
    "> In the code cell below, type the code to create variables for the 2021 population of these three Australian cities:\n",
    "> * Greater Sydney had a population of 5,231,147\n",
    "> * Greater Adelaide had a population of 1,387,290\n",
    "> * Greater Perth had a population of 2,116,647\n",
    "> \n",
    "> When you have finished creating the variables, press **Shift + Enter** on your keyboard to run the cell."
   ]
  },
  {
   "cell_type": "code",
   "execution_count": null,
   "id": "8ca3d5ea-d22d-4cae-8a15-cc8ac8c441bf",
   "metadata": {
    "tags": []
   },
   "outputs": [],
   "source": [
    "# Melbourne Population\n",
    "melbourne_population_2021 = 4917750\n",
    "\n",
    "# Assign the population value for Sydney to the following variable\n",
    "sydney_population_2021 = \n",
    "\n",
    "# Following the above examples, add variables and assign the population values for Adelaide and Perth"
   ]
  },
  {
   "cell_type": "markdown",
   "id": "0c51c220-7544-49d7-8501-80200d18ccfb",
   "metadata": {},
   "source": [
    "### <span style=\"color:green;font-weight:bold\">Need some help?</span>\n",
    "\n",
    "> If you see a red box containing text appear, it is an error or a warning, which is the computer's way of giving you feedback that something isn't quite right. Read the [common errors guide](error_guide.ipynb) to learn more about what might be causing this.\n",
    "> \n",
    "> If you're not sure what to do, get in touch with a demonstrator (in the room or online) and show them your screen to talk through what you've tried and what the next step might be."
   ]
  },
  {
   "cell_type": "markdown",
   "id": "6f70c968-e368-4c3f-9859-6e544812e5e6",
   "metadata": {},
   "source": [
    "## Using variables\n",
    "\n",
    "Once a value has been assigned to a variable, you can use the variables to perform calculations using the [arithmetic operators](https://www.w3schools.com/python/gloss_python_arithmetic_operators.asp):\n",
    "* `+` - Addition\n",
    "* `-` - Subtraction\n",
    "* `*` - Multiplication\n",
    "* `/` - Division\n",
    "\n",
    "For example, if we wanted to know the ratio of people in Melbourne in 2021 to people in Sydney in 2021, we could use the following code:\n",
    "\n",
    "`melbourne_to_sydney_population_ratio = melbourne_population_2021 / sydney_population_2021`\n",
    "* `melbourne_to_sydney_population_ratio` is the new **variable** we're creating.\n",
    "* It will be assigned with the ratio of the Melbourne population to the Sydney population, calculated using the division operator.\n",
    "\n",
    "To see the **value** contained in a **variable** you may type the name of the variable on its own. Click on the cell below and press **Shift + Enter** on your keyboard to run the code and see the ratio of Melbourne's population to Sydney's population."
   ]
  },
  {
   "cell_type": "code",
   "execution_count": null,
   "id": "b9615f10-fe72-4809-aad8-8610ae9e0ac5",
   "metadata": {
    "tags": []
   },
   "outputs": [],
   "source": [
    "# Create the variable and calculate the ratio of Melbourne's population to Sydney's population\n",
    "melbourne_to_sydney_population_ratio = melbourne_population_2021 / sydney_population_2021\n",
    "\n",
    "# Display the value contained in the new variable\n",
    "melbourne_to_sydney_population_ratio"
   ]
  },
  {
   "cell_type": "markdown",
   "id": "6e19f2e9-cbf7-4eab-9cfc-eedd7e907f6a",
   "metadata": {},
   "source": [
    "### <span style=\"color:blue;font-weight:bold\">Exercise</span>\n",
    "\n",
    "> Create a new variable and assign a calculation to it. Choose one of the following calculations, and name your variable something that represents it.\n",
    "> \n",
    "> * The difference in population between Sydney and Adelaide, using the subtraction operator\n",
    "> * The sum of population for Perth and Melbourne, using the addition operator"
   ]
  },
  {
   "cell_type": "code",
   "execution_count": null,
   "id": "502382fd-1fda-46e8-b47c-81f4e6506980",
   "metadata": {},
   "outputs": [],
   "source": [
    "# Create a variable and assign one of the calculations to it\n"
   ]
  },
  {
   "cell_type": "markdown",
   "id": "3e6a1cdf-2ae0-46a8-8abb-23be92132824",
   "metadata": {},
   "source": [
    "### <span style=\"color:green;font-weight:bold\">Need some help?</span>\n",
    "\n",
    "> If you're not sure what to do, get in touch with a demonstrator (in the room or online) and show them your screen to talk through what you've tried and what the next step might be."
   ]
  },
  {
   "cell_type": "markdown",
   "id": "ee48cf3d-c317-48c2-b77a-2477a08007df",
   "metadata": {},
   "source": [
    "## Conditional statements\n",
    "\n",
    "In Python, you can compare values using the [comparison operators](https://www.w3schools.com/python/gloss_python_comparison_operators.asp):\n",
    "* `==` - Equal\n",
    "* `!=` - Not equal\n",
    "* `>` - Greater than\n",
    "* `<` - Less than\n",
    "* `>=` - Greater than or equal to\n",
    "* `<=` - Less than or equal to\n",
    "\n",
    "For example, to check whether Sydney's population is greater than Melbourne's, we could use the following code:\n",
    "`sydney_population_2021 > melbourne_population_2021`\n",
    "> **Note:** This can be run without assigning the value of the calculation to a variable. When doing this, the value will be displayed after running the cell\n",
    "\n",
    "Conditional statements in Python produce values of `True` or `False`, which can be useful for running only if a certain condition is met. Run the next cell to see the outcome of writing a conditional statement in Python."
   ]
  },
  {
   "cell_type": "code",
   "execution_count": null,
   "id": "404cd647-bf37-4853-a534-787c1764b75a",
   "metadata": {
    "tags": []
   },
   "outputs": [],
   "source": [
    "sydney_population_2021 > melbourne_population_2021"
   ]
  },
  {
   "cell_type": "markdown",
   "id": "02a57e75-d303-4bf7-9f66-2e836fd87d6f",
   "metadata": {},
   "source": [
    "### <span style=\"color:blue;font-weight:bold\">Exercise</span>\n",
    "\n",
    "> Write code to check whether one of the following statements is True or False\n",
    "> \n",
    "> * Adelaide's population is greater than Sydney's\n",
    "> * Perth's population is less than Melbourne's"
   ]
  },
  {
   "cell_type": "code",
   "execution_count": null,
   "id": "0daeed7e-35fd-4d27-825c-70a9da8f56b9",
   "metadata": {
    "tags": []
   },
   "outputs": [],
   "source": [
    "# Write a comparison statement for one of the above statements and run it. You do not need to assign it to a variable\n"
   ]
  },
  {
   "cell_type": "markdown",
   "id": "fe0ed4b4-1885-412b-ab19-e584b56ecb2b",
   "metadata": {},
   "source": [
    "### <span style=\"color:green;font-weight:bold\">Need some help?</span>\n",
    "\n",
    "> If you're not sure what to do, get in touch with a demonstrator (in the room or online) and show them your screen to talk through what you've tried and what the next step might be."
   ]
  },
  {
   "cell_type": "markdown",
   "id": "62a9b6b2-e843-4f94-907d-11d0c10e2b8d",
   "metadata": {},
   "source": [
    "## Congratulations!\n",
    "\n",
    "Well done on completing this notebook. You have learned:\n",
    "* How to run Python code in a notebook\n",
    "* How to create variables and assign values to them\n",
    "* How to use arithmetic and comparison operators\n",
    "\n",
    "You now know the core concepts that you will need during the labs.\n",
    "\n",
    "### <span style=\"color:orange;font-weight:bold\">Going further</span>\n",
    "\n",
    "In the labs, we will discuss and use some additional Python concepts and tools. If you're interested in learning more, open the [more python Notebook](more_python.ipynb) and work through the exercises."
   ]
  }
 ],
 "metadata": {
  "kernelspec": {
   "display_name": "Python 3 (ipykernel)",
   "language": "python",
   "name": "python3"
  },
  "language_info": {
   "codemirror_mode": {
    "name": "ipython",
    "version": 3
   },
   "file_extension": ".py",
   "mimetype": "text/x-python",
   "name": "python",
   "nbconvert_exporter": "python",
   "pygments_lexer": "ipython3",
   "version": "3.8.10"
  }
 },
 "nbformat": 4,
 "nbformat_minor": 5
}
