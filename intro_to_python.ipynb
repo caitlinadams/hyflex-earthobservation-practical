{
 "cells": [
  {
   "cell_type": "markdown",
   "id": "a492e9ab-e844-4b54-810c-f69faab24f26",
   "metadata": {},
   "source": [
    "# Introduction to Python and Jupyter Notebooks"
   ]
  },
  {
   "cell_type": "markdown",
   "id": "03a5da76-a980-40dd-ad18-b1a560036021",
   "metadata": {},
   "source": [
    "## Working with Jupyter Notebooks"
   ]
  },
  {
   "cell_type": "markdown",
   "id": "80815a64-a229-4ae1-82b6-ef12a4ffeeba",
   "metadata": {},
   "source": [
    "This type of document is called a Jupyter Notebook - it allows you to have text and code side-by-side. \n",
    "\n",
    "### Coding in notebooks\n",
    "\n",
    "Code can be run in special sections of the notebook called **code cells**. A code cell looks like this:"
   ]
  },
  {
   "cell_type": "code",
   "execution_count": null,
   "id": "b833e76a-7c67-4f25-81be-8b6c97b7575b",
   "metadata": {},
   "outputs": [],
   "source": [
    "# This is a code cell\n"
   ]
  },
  {
   "cell_type": "markdown",
   "id": "1e5d8f0e-0d5b-42ae-945d-f0573f617bf3",
   "metadata": {},
   "source": [
    "Some important features of code cells:\n",
    "\n",
    "* You can include comments using the `#` symbol - this can be used to provide information that explains any code\n",
    "* You can run any code contained in the cell by clicking the cell and pressing **Shift + Enter** on your keyboard\n",
    "\n",
    "There's no active code to run in the above cell - we'll get to that in a moment!"
   ]
  },
  {
   "cell_type": "markdown",
   "id": "c206b66c-3b4e-4e00-9aa0-7ea04b0dd45d",
   "metadata": {},
   "source": [
    "## Creating variables\n",
    "\n",
    "When coding, we often want to work with many different pieces of information and data. To keep track of these, we **assign** the information to **variables**. \n",
    "\n",
    "For example, at the time of the 2021 Australian Census, Greater Melbourne had a population of 4,917,750. We can store this information as follows:\n",
    "\n",
    "`melbourne_population_2021 = 4917750`\n",
    "\n",
    "* `melbourne_population_2021` is the **variable**. It has a descriptive name, so we can remember what it represents.\n",
    "* `4917750` is the **value**. \n",
    "* `=` is the **assignment operator**. It sets the value of `melbourne_population_2021` to `4917750`"
   ]
  },
  {
   "cell_type": "markdown",
   "id": "abd9e34a-7685-478a-b376-0f573c609287",
   "metadata": {},
   "source": [
    "### <span style=\"color:blue;font-weight:bold\">Exercise</span>\n",
    "\n",
    "In the code cell below, type the code to create variables for the 2021 population of these three Australian cities:\n",
    "* Greater Sydney had a population of 5,231,147\n",
    "* Greater Adelaide had a population of 1,387,290\n",
    "* Greater Perth had a population of 2,116,647\n",
    "\n",
    "When you have finished creating the variables, press **Shift + Enter** on your keyboard to run the cell."
   ]
  },
  {
   "cell_type": "code",
   "execution_count": null,
   "id": "8ca3d5ea-d22d-4cae-8a15-cc8ac8c441bf",
   "metadata": {
    "tags": []
   },
   "outputs": [],
   "source": [
    "# Melbourne Population\n",
    "melbourne_population_2021 = 4917750\n",
    "\n",
    "# Assign the population value for Sydney to the following variable\n",
    "sydney_population_2021 = \n",
    "\n",
    "# Following the above examples, add variables and assign the population values for Adelaide and Perth"
   ]
  },
  {
   "cell_type": "markdown",
   "id": "6f70c968-e368-4c3f-9859-6e544812e5e6",
   "metadata": {},
   "source": [
    "## Using variables\n",
    "\n",
    "Once a value has been assigned to a variable, you can use the variables to perform calculations using the [arithmetic operators](https://www.w3schools.com/python/gloss_python_arithmetic_operators.asp):\n",
    "* `+` - Addition\n",
    "* `-` - Subtraction\n",
    "* `*` - Multiplication\n",
    "* `/` - Division\n",
    "\n",
    "For example, if we wanted to know the ratio of people in Melbourne in 2021 to people in Sydney in 2021, we could use the following code:\n",
    "\n",
    "`melbourne_to_sydney_population_ratio = melbourne_population_2021 / sydney_population_2021`\n",
    "* `melbourne_to_sydney_population_ratio` is the new **variable** we're creating.\n",
    "* It will be assigned with the ratio of the Melbourne population to the Sydney population, calculated using the division operator.\n",
    "\n",
    "To see the **value** contained in a **variable** you may type the name of the variable on its own. Click on the cell below and press **Shift + Enter** on your keyboard to run the code and see the ratio of Melbourne's population to Sydney's population."
   ]
  },
  {
   "cell_type": "code",
   "execution_count": null,
   "id": "b9615f10-fe72-4809-aad8-8610ae9e0ac5",
   "metadata": {
    "tags": []
   },
   "outputs": [],
   "source": [
    "# Create the variable and calculate the ratio of Melbourne's population to Sydney's population\n",
    "melbourne_to_sydney_population_ratio = melbourne_population_2021 / sydney_population_2021\n",
    "\n",
    "# Display the value contained in the new variable\n",
    "melbourne_to_sydney_population_ratio"
   ]
  },
  {
   "cell_type": "markdown",
   "id": "6e19f2e9-cbf7-4eab-9cfc-eedd7e907f6a",
   "metadata": {},
   "source": [
    "### <span style=\"color:blue;font-weight:bold\">Exercise</span>\n",
    "\n",
    "Create a new variable and assign a calculation to it. Choose one of the following calculations, and name your variable something that represents it.\n",
    "\n",
    "* The difference in population between Sydney and Adelaide, using the subtraction operator\n",
    "* The sum of population for Perth and Melbourne, using the addition operator"
   ]
  },
  {
   "cell_type": "code",
   "execution_count": null,
   "id": "502382fd-1fda-46e8-b47c-81f4e6506980",
   "metadata": {},
   "outputs": [],
   "source": [
    "# Create a variable and assign one of the calculations to it\n"
   ]
  },
  {
   "cell_type": "markdown",
   "id": "ee48cf3d-c317-48c2-b77a-2477a08007df",
   "metadata": {},
   "source": [
    "## Conditional statements\n",
    "\n",
    "In Python, you can compare values using the [comparison operators](https://www.w3schools.com/python/gloss_python_comparison_operators.asp):\n",
    "* `==` - Equal\n",
    "* `!=` - Not equal\n",
    "* `>` - Greater than\n",
    "* `<` - Less than\n",
    "* `>=` - Greater than or equal to\n",
    "* `<=` - Less than or equal to\n",
    "\n",
    "For example, to check whether Sydney's population is greater than Melbourne's, we could use the following code:\n",
    "`sydney_population_2021 > melbourne_population_2021`\n",
    "* This can be run without assigning the value of the calculation to a variable; the value would be displayed after running the cell\n",
    "\n",
    "Conditional statements in Python produce values of `True` or `False`, which can be useful for running only if a certain condition is met. Run the next cell to see the outcome of writing a conditional statement in Python."
   ]
  },
  {
   "cell_type": "code",
   "execution_count": null,
   "id": "404cd647-bf37-4853-a534-787c1764b75a",
   "metadata": {
    "tags": []
   },
   "outputs": [],
   "source": [
    "sydney_population_2021 > melbourne_population_2021"
   ]
  },
  {
   "cell_type": "markdown",
   "id": "02a57e75-d303-4bf7-9f66-2e836fd87d6f",
   "metadata": {},
   "source": [
    "### <span style=\"color:blue;font-weight:bold\">Exercise</span>\n",
    "\n",
    "Write code to check whether one of the following statements is True or False\n",
    "\n",
    "* Adelaide's population is greater than Sydney's\n",
    "* Perth's population is less than Melbourne's"
   ]
  },
  {
   "cell_type": "code",
   "execution_count": null,
   "id": "0daeed7e-35fd-4d27-825c-70a9da8f56b9",
   "metadata": {
    "tags": []
   },
   "outputs": [],
   "source": [
    "# Write a comparison statement for one of the above statements and run it. You do not need to assign it to a variable\n"
   ]
  },
  {
   "cell_type": "markdown",
   "id": "b01ca1bf-c2cd-4381-9ac9-6bd7f6339b2f",
   "metadata": {
    "tags": []
   },
   "source": [
    "## Functions and arguments\n",
    "\n",
    "**Functions** are a valuable tool for re-using pieces of code. Like in mathematics, **functions** take inputs (called **arguments**) and return an output. \n",
    "\n",
    "For example, we could write a function to calculate the difference between the population of two cities using the following code:"
   ]
  },
  {
   "cell_type": "code",
   "execution_count": null,
   "id": "eb63f16f-764f-4bb3-bb11-982fda8d3310",
   "metadata": {},
   "outputs": [],
   "source": [
    "def pop_diff(larger_city_population, smaller_city_population):\n",
    "    population_difference = larger_city_population - smaller_city_population\n",
    "    return population_difference"
   ]
  },
  {
   "cell_type": "markdown",
   "id": "d7160597-353b-4d03-a834-7fd9dec95553",
   "metadata": {},
   "source": [
    "* `def` indicates we are defining a function\n",
    "* `pop_diff` is the name of the function\n",
    "* `()` is used to capture the **arguments** of the function\n",
    "* `larger_city_population` is the first argument\n",
    "* `smaller_city_population` is the second argument\n",
    "* `return` is used to send the output of the function back to the user\n",
    "\n",
    "After defining the function, it can be called directly with chosen inputs. Run the cell below to define and run the function for Sydney and Melbourne:"
   ]
  },
  {
   "cell_type": "code",
   "execution_count": null,
   "id": "cbd0e6c5-85cd-4bc4-9f34-120daff8b9ff",
   "metadata": {
    "tags": []
   },
   "outputs": [],
   "source": [
    "def pop_diff(larger_city_population, smaller_city_population):\n",
    "    population_difference = larger_city_population - smaller_city_population\n",
    "    return population_difference\n",
    "\n",
    "pop_diff(sydney_population_2021, melbourne_population_2021)"
   ]
  },
  {
   "cell_type": "markdown",
   "id": "42714276-6f8c-4be9-afed-ea33f4b09cb8",
   "metadata": {
    "tags": []
   },
   "source": [
    "### <span style=\"color:blue;font-weight:bold\">Exercise</span>\n",
    "\n",
    "Using the `pop_diff` function, calculate the difference in population between Perth and Adelaide>"
   ]
  },
  {
   "cell_type": "code",
   "execution_count": null,
   "id": "00270966-59cf-4f32-afd5-b50e1538bda3",
   "metadata": {},
   "outputs": [],
   "source": [
    "# Use the pop_diff function to calculate the diffference in population between Perth and Adelaide\n"
   ]
  },
  {
   "cell_type": "markdown",
   "id": "bdaba516-1a55-4e80-b453-8456031720d5",
   "metadata": {},
   "source": [
    "## Data structures\n",
    "\n",
    "In Python, it can be useful to group variables and values into a data structure. Python has special objects called **lists** and **dictionaries** that can be used to organise variables and values.\n",
    "\n",
    "### List\n",
    "A **list** is a collection of variables. For exmaple, we could store Melbourne and Sydney's populations in a list called `city_populations_2021_list` using the following code:\n",
    "\n",
    "`city_populations_2021_list = [melbourne_population_2021, sydney_population_2021]`\n",
    "* the `[]` operators create the list\n",
    "* the `,` operator separates the **elements** in the list\n",
    "\n",
    "### Dictionary\n",
    "A **dictionary** is similar to a list, but allows you to tag **values** or **variables** to a **key**, which can be easily accessed later. For example, we could store Melbourne and Sydney's populations in a dictionary called `city_populations_2021_dict` using the following code:\n",
    "\n",
    "`city_populations_2021_dict = {\"Melbourne\": melbourne_population_2021, \"Sydney\": sydney_population_2021}`\n",
    "* the `{}` operators create the dictionary\n",
    "* the `,` operator separates the **items** in the dictionary\n",
    "* the `\"\"` operators allow us to use text-based values called **strings**\n",
    "* the `:` operator links a **key** to a **value** in the form `key: value`\n",
    "\n"
   ]
  },
  {
   "cell_type": "code",
   "execution_count": null,
   "id": "fc1ad70d-31e8-4d50-828f-7c55ecdabbaa",
   "metadata": {
    "tags": []
   },
   "outputs": [],
   "source": [
    "# Store populations in a list\n",
    "city_populations_2021_list = [melbourne_population_2021, sydney_population_2021]\n",
    "\n",
    "# Store populations in a dictionary\n",
    "city_populations_2021_dict = {\"Melbourne\": melbourne_population_2021, \"Sydney\": sydney_population_2021}"
   ]
  },
  {
   "cell_type": "markdown",
   "id": "ef6e7b85-2353-4186-87c8-918f1367ae43",
   "metadata": {},
   "source": [
    "### Accessing information from  data structures\n",
    "\n",
    "For a list, you can access any value by using the position of that value in the list. Noting that **Python begins counting at 0**, the first element in the list can be accessed with the following code:\n",
    "`city_populations_2021_list[0]`"
   ]
  },
  {
   "cell_type": "code",
   "execution_count": null,
   "id": "949f325e-582a-4088-a920-e228160822f1",
   "metadata": {
    "tags": []
   },
   "outputs": [],
   "source": [
    "city_populations_2021_list[0]"
   ]
  },
  {
   "cell_type": "markdown",
   "id": "8842f377-1afa-4ae4-9d68-6ba456bad731",
   "metadata": {},
   "source": [
    "For a dictionary, you can access any value by using the **key**. For example, Melbourne's population can be accessed with the following code:\n",
    "`city_populations_2021_dict[\"Melbourne\"]`"
   ]
  },
  {
   "cell_type": "code",
   "execution_count": null,
   "id": "956964ad-0af3-4b2c-8816-87013806b438",
   "metadata": {
    "tags": []
   },
   "outputs": [],
   "source": [
    "city_populations_2021_dict[\"Melbourne\"]"
   ]
  },
  {
   "cell_type": "markdown",
   "id": "c61a914b-98e2-43ea-a9de-52028b8e4e6d",
   "metadata": {},
   "source": [
    "## Classes and methods\n",
    "\n",
    "**Lists** and **dictionaries** are known as Python **classes**, which means they are a special type of object that come with special operations called **methods**. **Methods** are **functions** that belong to a **class**. \n",
    "\n",
    "The [**methods** for **lists**](https://www.w3schools.com/python/python_ref_list.asp) include:\n",
    "* `append()` - add an element to the end of the list\n",
    "* `sort()` - sort the list\n",
    "\n",
    "The [**methods** for **dictionaries**](https://www.w3schools.com/python/python_ref_dictionary.asp) include:\n",
    "* `items()` - return a list containing all key-value pairs in the dictionary\n",
    "* `values()` - return a list containing all the values in the dictionary\n",
    "\n",
    "To use a **method**, you type the name of the object, followed by `.`, then the name of the method. For example, to display all the key-value pairs in our `city_populations_2021_dict` dictionary, we would use the following code:\n",
    "\n",
    "`city_populations_2021_dict.items()`"
   ]
  },
  {
   "cell_type": "code",
   "execution_count": null,
   "id": "b9ab1fb1-6539-4559-9726-0d7a168c4df8",
   "metadata": {
    "tags": []
   },
   "outputs": [],
   "source": [
    "city_populations_2021_dict.items()"
   ]
  },
  {
   "cell_type": "markdown",
   "id": "378b71b0-c3d2-4327-882c-90343531a87c",
   "metadata": {},
   "source": [
    "### <span style=\"color:blue;font-weight:bold\">Exercise</span>\n",
    "\n",
    "Using the `append` method, add the population value for Perth to `city_populations_2021_list`, then display the list"
   ]
  },
  {
   "cell_type": "code",
   "execution_count": null,
   "id": "be78beac-8bdc-4f5d-8bdf-7deb46f9759c",
   "metadata": {
    "tags": []
   },
   "outputs": [],
   "source": [
    "# Using the append method, add the population value for Perth to city_populations_2021_list\n",
    "\n",
    "\n",
    "# Display the list\n"
   ]
  },
  {
   "cell_type": "markdown",
   "id": "3c78b4c5-ae33-447a-9fc6-1da829818f26",
   "metadata": {},
   "source": [
    "## Congratulations\n",
    "\n",
    "Well done on completing this notebook. You have learned:\n",
    "* How to run Python code in a notebook\n",
    "* How to create variables and assign values to them\n",
    "* How to use arithmetic and comparison operators\n",
    "* How to define and use a function\n",
    "* Two of Python's data structures: lists and dictionaries\n",
    "* What a class is\n",
    "* What methods are\n",
    "* How to call a class's method\n"
   ]
  }
 ],
 "metadata": {
  "kernelspec": {
   "display_name": "Python 3 (ipykernel)",
   "language": "python",
   "name": "python3"
  },
  "language_info": {
   "codemirror_mode": {
    "name": "ipython",
    "version": 3
   },
   "file_extension": ".py",
   "mimetype": "text/x-python",
   "name": "python",
   "nbconvert_exporter": "python",
   "pygments_lexer": "ipython3",
   "version": "3.8.10"
  }
 },
 "nbformat": 4,
 "nbformat_minor": 5
}
