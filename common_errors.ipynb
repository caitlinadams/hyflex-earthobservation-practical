{
 "cells": [
  {
   "cell_type": "markdown",
   "id": "03f39fc2-727c-4b64-ae22-d7263528959c",
   "metadata": {},
   "source": [
    "# Warnings and Errors in Python Programming\n",
    "\n",
    "When developing code in Python, it is **normal** to see warnings and errors appear. These are intended to inform you that something is not working, and that you may need to revisit the code you have written. Warnings and errors are **useful feedback** from the computer that you may need to check your code! "
   ]
  },
  {
   "cell_type": "markdown",
   "id": "6a156194-ed90-466e-b701-2f396afac43c",
   "metadata": {},
   "source": [
    "## Warnings and Errors\n",
    "\n",
    "If you run some Python code and see text on a light red background appear, it will be a warning or an error.\n",
    "\n",
    "* **warnings** tell you that something may be wrong, but the code will still able to run.\n",
    "* **errors** tell you that something was wrong, and the code was not able to finish running."
   ]
  },
  {
   "cell_type": "markdown",
   "id": "972b3beb-cc43-4116-8a49-af4993f48cab",
   "metadata": {},
   "source": [
    "### Example Warning\n",
    "\n",
    "The code below isn't meaningful, but does show you what a warning might look like:"
   ]
  },
  {
   "cell_type": "code",
   "execution_count": 14,
   "id": "eb1c5ca2-e66d-4c46-9a09-01b3b02d81b9",
   "metadata": {
    "tags": []
   },
   "outputs": [
    {
     "name": "stderr",
     "output_type": "stream",
     "text": [
      "/tmp/ipykernel_352/2556736808.py:4: UserWarning: This is a sample warning\n",
      "  warnings.warn(\"This is a sample warning\")\n"
     ]
    }
   ],
   "source": [
    "import warnings\n",
    "\n",
    "# displaying the warning message \n",
    "warnings.warn(\"This is a sample warning\")"
   ]
  },
  {
   "cell_type": "markdown",
   "id": "a20856d7-5b39-4540-8457-6b6f0f8f904f",
   "metadata": {},
   "source": [
    "### Example error\n",
    "\n",
    "The code below isn't meaningful, but does show you what an error might look like:"
   ]
  },
  {
   "cell_type": "code",
   "execution_count": 5,
   "id": "114d275b-b766-4f73-ad88-262c85770b80",
   "metadata": {
    "tags": []
   },
   "outputs": [
    {
     "ename": "SyntaxError",
     "evalue": "invalid syntax (3694118218.py, line 1)",
     "output_type": "error",
     "traceback": [
      "\u001b[0;36m  Cell \u001b[0;32mIn[5], line 1\u001b[0;36m\u001b[0m\n\u001b[0;31m    simple_variable =\u001b[0m\n\u001b[0m                      ^\u001b[0m\n\u001b[0;31mSyntaxError\u001b[0m\u001b[0;31m:\u001b[0m invalid syntax\n"
     ]
    }
   ],
   "source": [
    "variable_1 = "
   ]
  },
  {
   "cell_type": "markdown",
   "id": "7c7b757d-6b04-46bd-89b6-b04be6566b3d",
   "metadata": {},
   "source": [
    "### Spotting the difference\n",
    "\n",
    "There are different types of warnings and errors. For example, the above two examples show a `UserWarning` and a `SyntaxError`. The way to tell the difference is to look for the words `Warning` or `Error` somewhere within the message.\n",
    "\n",
    "If it's a warning, review it and check whether you need to address it before continuing. If it's an error, you will need to fix the problem with your code before continuing.\n",
    "\n",
    "### What does it mean??\n",
    "Python warnings and errors are not always easy to understand, and require some familiarity with Python to know the best approach. If a warning or error appears in the lab and you don't understand it, ask your demonstrator for help!"
   ]
  },
  {
   "cell_type": "markdown",
   "id": "3af9c6e3-3c02-472c-8bb8-4a8c3b941572",
   "metadata": {},
   "source": [
    "## Common Errors\n",
    "\n",
    "Warnings are a little hard to predict, as they often arise from Python packages, and may change over time as those packages are updated. To assist you with the labs, here are some common errors and an explanation of why they are occurring.\n",
    "\n",
    "You can tell what type of error it is by looking at the **final line** of the error message.\n",
    "\n",
    "### Syntax Error"
   ]
  },
  {
   "cell_type": "code",
   "execution_count": 6,
   "id": "fcee7d44-0469-4284-ad00-d5fa5b39c24c",
   "metadata": {
    "tags": []
   },
   "outputs": [
    {
     "ename": "SyntaxError",
     "evalue": "invalid syntax (1015736127.py, line 1)",
     "output_type": "error",
     "traceback": [
      "\u001b[0;36m  Cell \u001b[0;32mIn[6], line 1\u001b[0;36m\u001b[0m\n\u001b[0;31m    variable_2 =\u001b[0m\n\u001b[0m                 ^\u001b[0m\n\u001b[0;31mSyntaxError\u001b[0m\u001b[0;31m:\u001b[0m invalid syntax\n"
     ]
    }
   ],
   "source": [
    "variable_2 = "
   ]
  },
  {
   "cell_type": "markdown",
   "id": "5826dc42-7c23-4e3a-8cd6-a19e8978c653",
   "metadata": {},
   "source": [
    "A syntax error occurs when the code being run does not meet the Python language requirements. In this case, something must be assigned to the variable. \n",
    "\n",
    "When you see a syntax error, ask a demonstrator for help with formatting your code."
   ]
  },
  {
   "cell_type": "markdown",
   "id": "5e31a45c-3a3a-4246-982e-b32d18f6d3ba",
   "metadata": {},
   "source": [
    "### Name Error"
   ]
  },
  {
   "cell_type": "code",
   "execution_count": 8,
   "id": "df382b00-4a74-4ae6-9c80-63ec7a83cfe4",
   "metadata": {
    "tags": []
   },
   "outputs": [
    {
     "ename": "NameError",
     "evalue": "name 'variable_1' is not defined",
     "output_type": "error",
     "traceback": [
      "\u001b[0;31m---------------------------------------------------------------------------\u001b[0m",
      "\u001b[0;31mNameError\u001b[0m                                 Traceback (most recent call last)",
      "Cell \u001b[0;32mIn[8], line 1\u001b[0m\n\u001b[0;32m----> 1\u001b[0m \u001b[38;5;28mprint\u001b[39m(\u001b[43mvariable_1\u001b[49m)\n",
      "\u001b[0;31mNameError\u001b[0m: name 'variable_1' is not defined"
     ]
    }
   ],
   "source": [
    "print(variable_1)"
   ]
  },
  {
   "cell_type": "markdown",
   "id": "7420075c-f893-41cc-93b3-88bd488b9c8c",
   "metadata": {},
   "source": [
    "A name error occurs when trying to operate on a variable or function name that hasn't been defined. In this case, `variable_1` hasn't previously been defined, so can't be printed.\n",
    "\n",
    "When you see a name error, check whether you've run all previous cells where your variable or function might have been defined. If you can't find anything amiss, ask your demonstrator for help."
   ]
  },
  {
   "cell_type": "markdown",
   "id": "d37d9f01-df54-4e96-9b22-1d9a81aa08f3",
   "metadata": {},
   "source": [
    "### Type Error"
   ]
  },
  {
   "cell_type": "code",
   "execution_count": 9,
   "id": "074ca122-3ef5-4104-b465-0c79c3225319",
   "metadata": {
    "tags": []
   },
   "outputs": [
    {
     "ename": "TypeError",
     "evalue": "unsupported operand type(s) for +: 'int' and 'str'",
     "output_type": "error",
     "traceback": [
      "\u001b[0;31m---------------------------------------------------------------------------\u001b[0m",
      "\u001b[0;31mTypeError\u001b[0m                                 Traceback (most recent call last)",
      "Cell \u001b[0;32mIn[9], line 1\u001b[0m\n\u001b[0;32m----> 1\u001b[0m sum_value \u001b[38;5;241m=\u001b[39m \u001b[38;5;241;43m5\u001b[39;49m\u001b[43m \u001b[49m\u001b[38;5;241;43m+\u001b[39;49m\u001b[43m \u001b[49m\u001b[38;5;124;43m\"\u001b[39;49m\u001b[38;5;124;43mten\u001b[39;49m\u001b[38;5;124;43m\"\u001b[39;49m\n",
      "\u001b[0;31mTypeError\u001b[0m: unsupported operand type(s) for +: 'int' and 'str'"
     ]
    }
   ],
   "source": [
    "sum_value = 5 + \"ten\""
   ]
  },
  {
   "cell_type": "markdown",
   "id": "67a1a5ec-b16c-4307-829a-ee3fe7e0e764",
   "metadata": {},
   "source": [
    "A type error occurs when trying to perform an operation that is not permitted by the types being used. In this case, `5` is an integer (`'int'`) and `\"ten\"` is a string (`'str'`), they cannot be added together because they are different types.\n",
    "\n",
    "When you see a type error, check whether the operation you're trying to perform makes sense. If you can't tell what type your variables are, as your demonstrator for help."
   ]
  },
  {
   "cell_type": "markdown",
   "id": "ed687c20-f24b-41ed-842d-855e7e2a3711",
   "metadata": {},
   "source": [
    "### Attribute Error"
   ]
  },
  {
   "cell_type": "code",
   "execution_count": 10,
   "id": "b8abe504-8ec6-4d22-ab2d-3be78257929b",
   "metadata": {
    "tags": []
   },
   "outputs": [
    {
     "ename": "AttributeError",
     "evalue": "module 'geopandas' has no attribute 'GeoDaraFrame'",
     "output_type": "error",
     "traceback": [
      "\u001b[0;31m---------------------------------------------------------------------------\u001b[0m",
      "\u001b[0;31mAttributeError\u001b[0m                            Traceback (most recent call last)",
      "Cell \u001b[0;32mIn[10], line 3\u001b[0m\n\u001b[1;32m      1\u001b[0m \u001b[38;5;28;01mimport\u001b[39;00m \u001b[38;5;21;01mgeopandas\u001b[39;00m\n\u001b[0;32m----> 3\u001b[0m example_geodataframe \u001b[38;5;241m=\u001b[39m \u001b[43mgeopandas\u001b[49m\u001b[38;5;241;43m.\u001b[39;49m\u001b[43mGeoDaraFrame\u001b[49m()\n",
      "\u001b[0;31mAttributeError\u001b[0m: module 'geopandas' has no attribute 'GeoDaraFrame'"
     ]
    }
   ],
   "source": [
    "import geopandas\n",
    "\n",
    "example_geodataframe = geopandas.GeoDaraFrame()"
   ]
  },
  {
   "cell_type": "markdown",
   "id": "bd74eb03-6ddc-452e-bbca-42610eeaac9a",
   "metadata": {},
   "source": [
    "An attribute error occurs when trying to use a method of a class that doesn't exist. In this case, the code is misspelled -- it should be `GeoDataFrame` instead of `GeoDaraFrame`. \n",
    "\n",
    "It is not unusual to mistype when coding! When you see an attribute error, check that your code is spelled correctly. If you still aren't sure where the error is coming from, ask your demonstrator for help."
   ]
  },
  {
   "cell_type": "markdown",
   "id": "bc9dbada-c026-42df-92d5-174bd1d5fb14",
   "metadata": {},
   "source": [
    "### Driver Error"
   ]
  },
  {
   "cell_type": "code",
   "execution_count": 13,
   "id": "1df29227-15db-4993-b451-a6bb8e252f3d",
   "metadata": {
    "tags": []
   },
   "outputs": [
    {
     "ename": "DriverError",
     "evalue": "data/testfile.gpkg: No such file or directory",
     "output_type": "error",
     "traceback": [
      "\u001b[0;31m---------------------------------------------------------------------------\u001b[0m",
      "\u001b[0;31mCPLE_OpenFailedError\u001b[0m                      Traceback (most recent call last)",
      "File \u001b[0;32mfiona/_shim.pyx:83\u001b[0m, in \u001b[0;36mfiona._shim.gdal_open_vector\u001b[0;34m()\u001b[0m\n",
      "File \u001b[0;32mfiona/_err.pyx:291\u001b[0m, in \u001b[0;36mfiona._err.exc_wrap_pointer\u001b[0;34m()\u001b[0m\n",
      "\u001b[0;31mCPLE_OpenFailedError\u001b[0m: data/testfile.gpkg: No such file or directory",
      "\nDuring handling of the above exception, another exception occurred:\n",
      "\u001b[0;31mDriverError\u001b[0m                               Traceback (most recent call last)",
      "Cell \u001b[0;32mIn[13], line 3\u001b[0m\n\u001b[1;32m      1\u001b[0m \u001b[38;5;28;01mimport\u001b[39;00m \u001b[38;5;21;01mgeopandas\u001b[39;00m\n\u001b[0;32m----> 3\u001b[0m example_data \u001b[38;5;241m=\u001b[39m \u001b[43mgeopandas\u001b[49m\u001b[38;5;241;43m.\u001b[39;49m\u001b[43mread_file\u001b[49m\u001b[43m(\u001b[49m\u001b[38;5;124;43m\"\u001b[39;49m\u001b[38;5;124;43mdata/testfile.gpkg\u001b[39;49m\u001b[38;5;124;43m\"\u001b[39;49m\u001b[43m)\u001b[49m\n",
      "File \u001b[0;32m/env/lib/python3.8/site-packages/geopandas/io/file.py:248\u001b[0m, in \u001b[0;36m_read_file\u001b[0;34m(filename, bbox, mask, rows, engine, **kwargs)\u001b[0m\n\u001b[1;32m    245\u001b[0m     \u001b[38;5;28;01melse\u001b[39;00m:\n\u001b[1;32m    246\u001b[0m         path_or_bytes \u001b[38;5;241m=\u001b[39m filename\n\u001b[0;32m--> 248\u001b[0m     \u001b[38;5;28;01mreturn\u001b[39;00m \u001b[43m_read_file_fiona\u001b[49m\u001b[43m(\u001b[49m\n\u001b[1;32m    249\u001b[0m \u001b[43m        \u001b[49m\u001b[43mpath_or_bytes\u001b[49m\u001b[43m,\u001b[49m\u001b[43m \u001b[49m\u001b[43mfrom_bytes\u001b[49m\u001b[43m,\u001b[49m\u001b[43m \u001b[49m\u001b[43mbbox\u001b[49m\u001b[38;5;241;43m=\u001b[39;49m\u001b[43mbbox\u001b[49m\u001b[43m,\u001b[49m\u001b[43m \u001b[49m\u001b[43mmask\u001b[49m\u001b[38;5;241;43m=\u001b[39;49m\u001b[43mmask\u001b[49m\u001b[43m,\u001b[49m\u001b[43m \u001b[49m\u001b[43mrows\u001b[49m\u001b[38;5;241;43m=\u001b[39;49m\u001b[43mrows\u001b[49m\u001b[43m,\u001b[49m\u001b[43m \u001b[49m\u001b[38;5;241;43m*\u001b[39;49m\u001b[38;5;241;43m*\u001b[39;49m\u001b[43mkwargs\u001b[49m\n\u001b[1;32m    250\u001b[0m \u001b[43m    \u001b[49m\u001b[43m)\u001b[49m\n\u001b[1;32m    252\u001b[0m \u001b[38;5;28;01melse\u001b[39;00m:\n\u001b[1;32m    253\u001b[0m     \u001b[38;5;28;01mraise\u001b[39;00m \u001b[38;5;167;01mValueError\u001b[39;00m(\u001b[38;5;124mf\u001b[39m\u001b[38;5;124m\"\u001b[39m\u001b[38;5;124munknown engine \u001b[39m\u001b[38;5;124m'\u001b[39m\u001b[38;5;132;01m{\u001b[39;00mengine\u001b[38;5;132;01m}\u001b[39;00m\u001b[38;5;124m'\u001b[39m\u001b[38;5;124m\"\u001b[39m)\n",
      "File \u001b[0;32m/env/lib/python3.8/site-packages/geopandas/io/file.py:289\u001b[0m, in \u001b[0;36m_read_file_fiona\u001b[0;34m(path_or_bytes, from_bytes, bbox, mask, rows, where, **kwargs)\u001b[0m\n\u001b[1;32m    286\u001b[0m     reader \u001b[38;5;241m=\u001b[39m fiona\u001b[38;5;241m.\u001b[39mopen\n\u001b[1;32m    288\u001b[0m \u001b[38;5;28;01mwith\u001b[39;00m fiona_env():\n\u001b[0;32m--> 289\u001b[0m     \u001b[38;5;28;01mwith\u001b[39;00m \u001b[43mreader\u001b[49m\u001b[43m(\u001b[49m\u001b[43mpath_or_bytes\u001b[49m\u001b[43m,\u001b[49m\u001b[43m \u001b[49m\u001b[38;5;241;43m*\u001b[39;49m\u001b[38;5;241;43m*\u001b[39;49m\u001b[43mkwargs\u001b[49m\u001b[43m)\u001b[49m \u001b[38;5;28;01mas\u001b[39;00m features:\n\u001b[1;32m    290\u001b[0m         crs \u001b[38;5;241m=\u001b[39m features\u001b[38;5;241m.\u001b[39mcrs_wkt\n\u001b[1;32m    291\u001b[0m         \u001b[38;5;66;03m# attempt to get EPSG code\u001b[39;00m\n",
      "File \u001b[0;32m/env/lib/python3.8/site-packages/fiona/env.py:408\u001b[0m, in \u001b[0;36mensure_env_with_credentials.<locals>.wrapper\u001b[0;34m(*args, **kwargs)\u001b[0m\n\u001b[1;32m    405\u001b[0m \u001b[38;5;129m@wraps\u001b[39m(f)\n\u001b[1;32m    406\u001b[0m \u001b[38;5;28;01mdef\u001b[39;00m \u001b[38;5;21mwrapper\u001b[39m(\u001b[38;5;241m*\u001b[39margs, \u001b[38;5;241m*\u001b[39m\u001b[38;5;241m*\u001b[39mkwargs):\n\u001b[1;32m    407\u001b[0m     \u001b[38;5;28;01mif\u001b[39;00m local\u001b[38;5;241m.\u001b[39m_env:\n\u001b[0;32m--> 408\u001b[0m         \u001b[38;5;28;01mreturn\u001b[39;00m \u001b[43mf\u001b[49m\u001b[43m(\u001b[49m\u001b[38;5;241;43m*\u001b[39;49m\u001b[43margs\u001b[49m\u001b[43m,\u001b[49m\u001b[43m \u001b[49m\u001b[38;5;241;43m*\u001b[39;49m\u001b[38;5;241;43m*\u001b[39;49m\u001b[43mkwargs\u001b[49m\u001b[43m)\u001b[49m\n\u001b[1;32m    409\u001b[0m     \u001b[38;5;28;01melse\u001b[39;00m:\n\u001b[1;32m    410\u001b[0m         \u001b[38;5;28;01mif\u001b[39;00m \u001b[38;5;28misinstance\u001b[39m(args[\u001b[38;5;241m0\u001b[39m], \u001b[38;5;28mstr\u001b[39m):\n",
      "File \u001b[0;32m/env/lib/python3.8/site-packages/fiona/__init__.py:264\u001b[0m, in \u001b[0;36mopen\u001b[0;34m(fp, mode, driver, schema, crs, encoding, layer, vfs, enabled_drivers, crs_wkt, **kwargs)\u001b[0m\n\u001b[1;32m    261\u001b[0m     path \u001b[38;5;241m=\u001b[39m parse_path(fp)\n\u001b[1;32m    263\u001b[0m \u001b[38;5;28;01mif\u001b[39;00m mode \u001b[38;5;129;01min\u001b[39;00m (\u001b[38;5;124m'\u001b[39m\u001b[38;5;124ma\u001b[39m\u001b[38;5;124m'\u001b[39m, \u001b[38;5;124m'\u001b[39m\u001b[38;5;124mr\u001b[39m\u001b[38;5;124m'\u001b[39m):\n\u001b[0;32m--> 264\u001b[0m     c \u001b[38;5;241m=\u001b[39m \u001b[43mCollection\u001b[49m\u001b[43m(\u001b[49m\u001b[43mpath\u001b[49m\u001b[43m,\u001b[49m\u001b[43m \u001b[49m\u001b[43mmode\u001b[49m\u001b[43m,\u001b[49m\u001b[43m \u001b[49m\u001b[43mdriver\u001b[49m\u001b[38;5;241;43m=\u001b[39;49m\u001b[43mdriver\u001b[49m\u001b[43m,\u001b[49m\u001b[43m \u001b[49m\u001b[43mencoding\u001b[49m\u001b[38;5;241;43m=\u001b[39;49m\u001b[43mencoding\u001b[49m\u001b[43m,\u001b[49m\n\u001b[1;32m    265\u001b[0m \u001b[43m                   \u001b[49m\u001b[43mlayer\u001b[49m\u001b[38;5;241;43m=\u001b[39;49m\u001b[43mlayer\u001b[49m\u001b[43m,\u001b[49m\u001b[43m \u001b[49m\u001b[43menabled_drivers\u001b[49m\u001b[38;5;241;43m=\u001b[39;49m\u001b[43menabled_drivers\u001b[49m\u001b[43m,\u001b[49m\u001b[43m \u001b[49m\u001b[38;5;241;43m*\u001b[39;49m\u001b[38;5;241;43m*\u001b[39;49m\u001b[43mkwargs\u001b[49m\u001b[43m)\u001b[49m\n\u001b[1;32m    266\u001b[0m \u001b[38;5;28;01melif\u001b[39;00m mode \u001b[38;5;241m==\u001b[39m \u001b[38;5;124m'\u001b[39m\u001b[38;5;124mw\u001b[39m\u001b[38;5;124m'\u001b[39m:\n\u001b[1;32m    267\u001b[0m     \u001b[38;5;28;01mif\u001b[39;00m schema:\n\u001b[1;32m    268\u001b[0m         \u001b[38;5;66;03m# Make an ordered dict of schema properties.\u001b[39;00m\n",
      "File \u001b[0;32m/env/lib/python3.8/site-packages/fiona/collection.py:162\u001b[0m, in \u001b[0;36mCollection.__init__\u001b[0;34m(self, path, mode, driver, schema, crs, encoding, layer, vsi, archive, enabled_drivers, crs_wkt, ignore_fields, ignore_geometry, **kwargs)\u001b[0m\n\u001b[1;32m    160\u001b[0m \u001b[38;5;28;01mif\u001b[39;00m \u001b[38;5;28mself\u001b[39m\u001b[38;5;241m.\u001b[39mmode \u001b[38;5;241m==\u001b[39m \u001b[38;5;124m'\u001b[39m\u001b[38;5;124mr\u001b[39m\u001b[38;5;124m'\u001b[39m:\n\u001b[1;32m    161\u001b[0m     \u001b[38;5;28mself\u001b[39m\u001b[38;5;241m.\u001b[39msession \u001b[38;5;241m=\u001b[39m Session()\n\u001b[0;32m--> 162\u001b[0m     \u001b[38;5;28;43mself\u001b[39;49m\u001b[38;5;241;43m.\u001b[39;49m\u001b[43msession\u001b[49m\u001b[38;5;241;43m.\u001b[39;49m\u001b[43mstart\u001b[49m\u001b[43m(\u001b[49m\u001b[38;5;28;43mself\u001b[39;49m\u001b[43m,\u001b[49m\u001b[43m \u001b[49m\u001b[38;5;241;43m*\u001b[39;49m\u001b[38;5;241;43m*\u001b[39;49m\u001b[43mkwargs\u001b[49m\u001b[43m)\u001b[49m\n\u001b[1;32m    163\u001b[0m \u001b[38;5;28;01melif\u001b[39;00m \u001b[38;5;28mself\u001b[39m\u001b[38;5;241m.\u001b[39mmode \u001b[38;5;129;01min\u001b[39;00m (\u001b[38;5;124m'\u001b[39m\u001b[38;5;124ma\u001b[39m\u001b[38;5;124m'\u001b[39m, \u001b[38;5;124m'\u001b[39m\u001b[38;5;124mw\u001b[39m\u001b[38;5;124m'\u001b[39m):\n\u001b[1;32m    164\u001b[0m     \u001b[38;5;28mself\u001b[39m\u001b[38;5;241m.\u001b[39msession \u001b[38;5;241m=\u001b[39m WritingSession()\n",
      "File \u001b[0;32mfiona/ogrext.pyx:540\u001b[0m, in \u001b[0;36mfiona.ogrext.Session.start\u001b[0;34m()\u001b[0m\n",
      "File \u001b[0;32mfiona/_shim.pyx:90\u001b[0m, in \u001b[0;36mfiona._shim.gdal_open_vector\u001b[0;34m()\u001b[0m\n",
      "\u001b[0;31mDriverError\u001b[0m: data/testfile.gpkg: No such file or directory"
     ]
    }
   ],
   "source": [
    "import geopandas\n",
    "\n",
    "example_data = geopandas.read_file(\"data/testfile.gpkg\")"
   ]
  },
  {
   "cell_type": "markdown",
   "id": "e8e0ae6d-e5c8-4c33-b469-d71d00922fd3",
   "metadata": {},
   "source": [
    "A driver error occurs when a file can't be read. In this case, the file doesn't exist, so it cannot be opened. This error might also occur if the filename is misspelled. \n",
    "\n",
    "When you see a driver error, check that the file you are trying to open exists, and that you have spelled it correctly. If you still aren't sure where the error is coming from, ask your demonstrator for help."
   ]
  }
 ],
 "metadata": {
  "kernelspec": {
   "display_name": "Python 3 (ipykernel)",
   "language": "python",
   "name": "python3"
  },
  "language_info": {
   "codemirror_mode": {
    "name": "ipython",
    "version": 3
   },
   "file_extension": ".py",
   "mimetype": "text/x-python",
   "name": "python",
   "nbconvert_exporter": "python",
   "pygments_lexer": "ipython3",
   "version": "3.8.10"
  }
 },
 "nbformat": 4,
 "nbformat_minor": 5
}
