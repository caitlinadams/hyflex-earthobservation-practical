{
 "cells": [
  {
   "cell_type": "markdown",
   "id": "816763ba-c717-4968-a7ba-a5413b87ee28",
   "metadata": {},
   "source": [
    "# Analysing forest recovery after logging events - data exploration\n",
    "\n",
    "You have recently started working as a graduate data analyst at the Victorian Forest Monitoring Program, which is part of the Victorian Department of Energy, Environment and Climate Action. \n",
    "\n",
    "Your team is interested in how different logging events appear in satellite imagery, which might be able to help them detect logging events in the future. They have a dataset of known logging events in Victoria since the 1950s, and they want to see what you can learn by examining the satellite imagery for known events. \n",
    "\n",
    "For your first practical, your team would like you to familiarise yourself with the available data, specifically, the different kinds of logging events that can occur. You'll start by exploring the available data, which will give you insight into how the data is structured, and how to pull useful information out."
   ]
  },
  {
   "cell_type": "markdown",
   "id": "5e4a6a89-dba9-4278-b023-6fd0b8d1aef0",
   "metadata": {},
   "source": [
    "## Overview\n",
    "\n",
    "During this activity, you will learn to\n",
    "\n",
    "* load geospatial data files and explore their contents.\n",
    "* clean, explore and filter all available data to identify different types of logging events.\n",
    "* export a collection of events that can be compared with satellite imagery (topic of the next practical).\n",
    "\n",
    "Some of the Python code for performing the sample selection has been provided for you, but there will be a number of opportunities to write your own code, as well as customise existing code to explore different results.\n",
    "\n",
    "### Guiding text\n",
    "\n",
    "This practical contains a number of headings to help guide you. \n",
    "\n",
    "* <span style=\"color:blue;font-weight:bold\">Your task</span>: This indicates there is a task you must complete before proceeding. It will usually require you to add code or text before you can move on.\n",
    "* <span style=\"color:green;font-weight:bold\">Need some help?</span>: Your demonstrators are here to help -- this text is there to remind you to ask for help if you're not sure what you need to do. You can ask for help at any time.\n",
    "* <span style=\"color:orange;font-weight:bold\">Going further</span>: This indicates that there is an *optional* extension you can try if you've already completed the tasks.\n",
    "* **Code explanation**: The text following this header will provide you with more information about how the code works -- you only need to read this if you're interested."
   ]
  },
  {
   "cell_type": "markdown",
   "id": "93ba9a39-6c10-4f4e-88c7-48449ec363b2",
   "metadata": {},
   "source": [
    "## Notebook setup\n",
    "\n",
    "Another analyst on your team has some existing code that you'll be able to use to start your work. They've already identified the useful Python packages you'll work with: `pandas` and `geopandas`.\n",
    "* `pandas` is a tool for working with data in tables. You can learn more about it in the [pandas documentation](https://pandas.pydata.org/docs/getting_started/overview.html).\n",
    "* `geopandas` is a tool for working with geospatial data in tables. It extends the functionality of `pandas` to work with geospatial data. You can learn more about it in the [geopandas documentation](https://geopandas.org/en/stable/getting_started/introduction.html).\n",
    "\n",
    "To run the code, click on the next cell, and press `Shift`+`Enter` on your keyboard."
   ]
  },
  {
   "cell_type": "code",
   "execution_count": null,
   "id": "f4ff95b6-a916-4314-a8d6-13cd9b9d0d8a",
   "metadata": {},
   "outputs": [],
   "source": [
    "import geopandas\n",
    "import pandas\n",
    "\n",
    "# Change a pandas setting to view all columns and all rows of loaded data\n",
    "pandas.set_option(\"display.max_columns\", None)\n",
    "pandas.set_option(\"display.max_rows\", None)"
   ]
  },
  {
   "cell_type": "markdown",
   "id": "58c0bbb1-bbf8-41b1-8425-af119b856089",
   "metadata": {},
   "source": [
    "## Load the data\n",
    "\n",
    "### Geospatial data\n",
    "\n",
    "Your colleagues have provided you with a GeoPackage file in the data folder, which contains timber harvesting events in Victoria. [GeoPackages](https://www.geopackage.org/) are a geospatial data format, and use the file extension \".gpkg\". \n",
    "\n",
    "This particular GeoPackage contains **polygons** representing logged areas, along with a number of **attributes** that capture data about the event, such as the year it happened, what kind of trees were logged, and many other useful pieces of data. Your colleagues have provided the GeoPacakge in the data folder, and it is called \"LOG_SEASON.gpkg\". The figure below shows a preview of the data.\n",
    "\n",
    "<center><img src=\"polygon_attribute.PNG\"/></center>\n",
    "\n",
    "*The **polygons** in blue show the areas that have been logged. The polygon's **attributes** in the table are the data associated with the polygon, such as when it took place and how big the area is.*"
   ]
  },
  {
   "cell_type": "markdown",
   "id": "56bb2023-2eab-4c5c-8229-8e631bc6b579",
   "metadata": {},
   "source": [
    "### Code to load geospatial data\n",
    "\n",
    "To load GeoPackages, your colleagues recommend you use the `geopandas` package. This will allow you to view a table containing each logging event and all the relevant information. Each row of the table corresponds to a polygon and the columns display the attributes for that polygon. The data is located in your data folder - the **path** to the data is `\"LOG_SEASON.gpkg\"`.\n",
    "\n",
    "They let you know that `geopandas` has a useful function called `read_file` that will import the polygons and their attributes into a table. You can read more about this function in the [geopandas documentation](https://geopandas.org/en/stable/docs/reference/api/geopandas.read_file.html#geopandas.read_file).\n",
    "\n",
    "### <span style=\"color:blue;font-weight:bold\">Your task</span>\n",
    "\n",
    "> Load the logging data using the `read_file` function from `geopandas` and assign the loaded data to a variable called `logging_season_data`.\n",
    ">\n",
    "> What's provided:\n",
    "> * The variable you'll assign the data to: `logging_season_data`.\n",
    "> * The `=` sign that will assign the results of any code that comes after it to the variable.\n",
    ">\n",
    "> What you'll need to add:\n",
    "> * After the `=` sign, type `geopandas.read_file()` to call the function.\n",
    "> * Inside the `()` for the function, type the path to the file: `\"LOG_SEASON.gpkg\"`\n",
    ">\n",
    ">After adding the required code to the cell below, run the cell by clicking on the cell and pressing `Shift`+`Enter` on your keyboard.\n",
    "\n",
    "### <span style=\"color:green;font-weight:bold\">Need some help?</span>\n",
    ">If you're not sure what to do, get in touch with a demonstrator (in the room or online) and show them your screen to talk through what you've tried and what the next step might be."
   ]
  },
  {
   "cell_type": "code",
   "execution_count": null,
   "id": "4ea882a2-9249-4acb-9927-abee3e67fb35",
   "metadata": {},
   "outputs": [],
   "source": [
    "# Include the code to load the data after the = sign.\n",
    "logging_season_data = "
   ]
  },
  {
   "cell_type": "markdown",
   "id": "6c20b9fd-bf35-4aea-941c-c11b9db4bd2b",
   "metadata": {},
   "source": [
    "## View the loaded data\n",
    "\n",
    "The `logging_season_data` variable is a geopandas `GeoDataFrame` -- a special type of object (known as a **class**) that lists geospatial data in a table with one row per polygon. You can read more about the `GeoDataFrame` class in the [geopandas documentation](https://geopandas.org/en/stable/docs/reference/api/geopandas.GeoDataFrame.html).\n",
    "\n",
    "A `GeoDataFame` comes with a number of useful **methods** that can be run to perform common operations. A `GeoDataFrame` has many methods, but two useful ones are `head()` and `tail()` which allow you to view the first 5 rows and last 5 rows of the `GeoDataFrame`.\n",
    "\n",
    "**To use a method**, you type the name of the `GeoDataFame` then a `.` then the `method()`. To view the first 5 rows of our loaded data, you would type: `logging_season_data.head()`\n",
    "\n",
    "### <span style=\"color:blue;font-weight:bold\">Your task</span>\n",
    "> View the first 5 and last 5 rows of the `logging_season_data` table using the `head()` and `tail()` methods.\n",
    ">\n",
    "> What's provided:\n",
    "> * Two empty cells, one for each method\n",
    ">\n",
    "> What you'll need to add:\n",
    "> * the full command for viewing the first 5 rows\n",
    "> * The full command for viewing the last 5 rows\n",
    ">\n",
    "> After adding the required code to the cells below, run the cells by clicking on the each cell and pressing `Shift`+`Enter` on your keyboard.\n",
    ">\n",
    "> Remember, you can call a method using the following format: `name_of_geodataframe.method()`\n"
   ]
  },
  {
   "cell_type": "code",
   "execution_count": null,
   "id": "fe6ce0bd-f1d2-48af-ae0c-e08997610d5a",
   "metadata": {},
   "outputs": [],
   "source": [
    "# View the first five rows using the head() method\n"
   ]
  },
  {
   "cell_type": "code",
   "execution_count": null,
   "id": "0fc89c12-b483-42f4-964a-c027536d4af0",
   "metadata": {
    "tags": []
   },
   "outputs": [],
   "source": [
    "# View the last 5 rows using the tail() method\n"
   ]
  },
  {
   "cell_type": "markdown",
   "id": "fd5a6dd4-35d8-4a36-867b-a328c2c8a0dd",
   "metadata": {},
   "source": [
    "### <span style=\"color:orange;font-weight:bold\">Going further</span>\n",
    "> This is an optional exercise to further your own understanding. There are no questions to answer for this component.\n",
    "> \n",
    "> What happens if you add a number inside the brackets of the `head` and `tail` methods?"
   ]
  },
  {
   "cell_type": "markdown",
   "id": "13bc3557-ef55-460c-b35e-2ca51a724076",
   "metadata": {
    "tags": []
   },
   "source": [
    "### Exercise: understanding columns\n",
    "\n",
    "When working with new data, it's important to have a clear understanding of the different pieces of information available to you. This can be obtained by a combination of viewing the data, online research, and collaboration with people who are more knowledgeable about the data. For example, your colleagues share a few pieces of useful terminology specific to forestry:\n",
    "\n",
    "* [Silviculture](https://www.forestrycorporation.com.au/operations/silviculture) is the science of forestry.\n",
    "* A [coupe](https://www.vicforests.com.au/vicforest-forest-management/ops-planning/where-vicforests-operates/timber-release-plan) is a defined area in a forest that timber can be harvested from.\n",
    "* A [silvicultural system](https://www.fs.usda.gov/Internet/FSE_DOCUMENTS/fseprd530429.pdf) is the planned strategy for managing a coupe, including the harvesting and regeneration of timber.\n",
    "\n",
    "> **Note**: It is a normal part of working to use the internet to investigate new concepts you come across, and we encourage you to search online if you come across terminology you don't understand.\n",
    "\n",
    "### <span style=\"color:blue;font-weight:bold\">Your task</span>\n",
    "> Look through both the **first** and **last** 5 entries of the `logging_season_data` above, and write a sentence to describe the purpose of each column listed below. Often, the name will be descriptive, but in some cases, you will need to look at the values in that column to help your understanding. Your colleague has provided you with some of the descriptions to help you out. If some of the values are unfamiliar to you, try searching for them online.  \n",
    ">\n",
    "> Double click the text below to add your answers after each column name.\n",
    "\n",
    "### <span style=\"color:green;font-weight:bold\">Need some help?</span>\n",
    ">If you're not sure what to do, get in touch with a demonstrator (in the room or online) and discuss your current thoughts about what the columns represent."
   ]
  },
  {
   "cell_type": "markdown",
   "id": "e688f0f4-bcc5-43c5-90cf-b1ca45de2950",
   "metadata": {},
   "source": [
    "**LOGHISTID**: The unique identifier for each logging event. It is built from other columns, using the following format: FMA/BLOCK/COMPART/COUPENO/SEASON/SECTN_SDE\n",
    "\n",
    "**COUPEADD**: The unique identifier for each logging coupe. It is built from other columns, using the following format: FMA/BLOCK/COMPART/COUPENO\n",
    "\n",
    "**SEASON**: The financial year the logging event took place. For example, a logging event happening in the 2019-2020 financial year would have the SEASON code 201920\n",
    "\n",
    "**STARTDATE**:\n",
    "\n",
    "**ENDDATE**:\n",
    "\n",
    "**HECTARES**:\n",
    "\n",
    "**X_SILVSYS**:\n",
    "\n",
    "**X_FORETYPE**:\n"
   ]
  },
  {
   "cell_type": "markdown",
   "id": "5883798e-78bf-4486-a78a-c804b09a3f4a",
   "metadata": {},
   "source": [
    "## Clean the data\n",
    "\n",
    "Your colleagues let you know that the data isn't necessarily complete in some sections. For example, there are some logging events where the start date or end date is missing, which might make it hard to group logging events by year between. Luckily, you can use the SEASON column instead.\n",
    "\n",
    "The SEASON code's current format isn't very easy to work with, so your colleagues have provided you with some code to extract the first year listed in the SEASON code. This is given as a string (a text label of the year) and an integer (the numeric value of the year). Each will have its own use later on. The code below will identify the starting year in each format, and add two new columns (STARTYEAR_STRING and STARTYEAR_INTEGER) to your table.\n",
    "\n",
    "To run the code, click on the next cell, and press `Shift`+`Enter` on your keyboard."
   ]
  },
  {
   "cell_type": "code",
   "execution_count": null,
   "id": "d43a6cb7-b293-40ae-9f7e-39f157ba86b0",
   "metadata": {},
   "outputs": [],
   "source": [
    "# Create a new column STARTYEAR_STRING, using the first four digits of the SEASON column\n",
    "logging_season_data.loc[:, \"STARTYEAR_STRING\"] = logging_season_data.loc[:, \"SEASON\"].str[0:4]\n",
    "\n",
    "# Create a new column STARTYEAR_INTEGER, which converts STARTYEAR_STRING to a numerical value\n",
    "logging_season_data.loc[:, \"STARTYEAR_INTEGER\"] = logging_season_data.loc[:, \"STARTYEAR_STRING\"].astype(int)"
   ]
  },
  {
   "cell_type": "markdown",
   "id": "e911bb39-b3a0-4382-ab06-885b6043230f",
   "metadata": {},
   "source": [
    "**Code Explanation**\n",
    "> The code above uses another `GeoDataFrame` method called `loc[]`. Here, *loc* is short for *location*, as this method lets you access data in a given row and column.\n",
    "> \n",
    "> `loc[]` takes two arguments: \n",
    "> \n",
    "> * the **first item** inside the square brackets defines which **row** to access\n",
    "> * the **second item** inside the square brackets defines which **column** to access\n",
    "> * the arguments can be a specific row number, a specific column name, or `:` to access all values in the column or row\n",
    ">\n",
    "> for example, the following code would access all rows in the `HECTARES` column and assign them their original value [rounded](https://www.w3schools.com/python/ref_func_round.asp) to the nearest integer:\n",
    ">\n",
    "> `logging_season_data.loc[:, \"HECTARES\"] = round(logging_season_data.loc[:, \"HECTARES\"])`"
   ]
  },
  {
   "cell_type": "markdown",
   "id": "40a60b10-23d7-41da-8b85-ef941f419fd8",
   "metadata": {},
   "source": [
    "### <span style=\"color:blue;font-weight:bold\">Your task</span>\n",
    "> Add code to the cell below that will display the **first 5 rows** in the dataset. To run the code, click on the next cell, and press `Shift`+`Enter` on your keyboard.\n",
    ">\n",
    ">Then, scroll to the far right of the table to see the new columns.\n",
    "\n",
    "### <span style=\"color:green;font-weight:bold\">Need some help?</span>\n",
    ">If you're not sure what to do, get in touch with a demonstrator (in the room or online) and show them your screen to talk through what you've tried and what the next step might be."
   ]
  },
  {
   "cell_type": "code",
   "execution_count": null,
   "id": "68639518-8a93-46af-8664-687937b172f4",
   "metadata": {},
   "outputs": [],
   "source": [
    "# View the first five rows of the logging_season_data GeoDataFrame to see the new columns\n"
   ]
  },
  {
   "cell_type": "markdown",
   "id": "98a94109-4d2a-4b06-94a2-8f3c69042543",
   "metadata": {},
   "source": [
    "## Filter the data\n",
    "\n",
    "During the next stage of the analysis, you'll be comparing your selected logging events to satellite imagery. Your colleagues recommend that you use Sentinel-2 imagery, as it is freely available, and has higher resolution than Landsat. The first Sentinel-2 satellite started collecting data over Australia in 2015, with the second satellite joining it in 2017. Once both satellites were operational, they began to collect data over Australia every 3-5 days.\n",
    "\n",
    "Before proceeding with the analysis, it is valuable to filter the dataset to only keep logging events that occurred after Sentinel-2 was launched. This will help with the next part of the analysis when finding satellite images that coincide with the logging events.\n",
    "\n",
    "### <span style=\"color:blue;font-weight:bold\">Your task</span>\n",
    "> Choose a value for the starting year that is after the launch of Sentinel-2.\n",
    ">\n",
    "> What's provided:\n",
    "> * The variable you'll assign the data to: `starting_year`.\n",
    "> * The `=` sign that will assign the results of any code that comes after it to the variable.\n",
    ">\n",
    "> What you'll need to add:\n",
    "> * After the `=` sign, type the value of a year that is after the launch of Sentinel-2\n",
    ">\n",
    "> After adding the required code to the cell below, run the cell by clicking on it and pressing `Shift`+`Enter` on your keyboard. Then run the cell after it to filter the data and see the results."
   ]
  },
  {
   "cell_type": "code",
   "execution_count": null,
   "id": "4ce716b9-cca1-41cf-a001-3bef43949221",
   "metadata": {
    "tags": []
   },
   "outputs": [],
   "source": [
    "# Set the value for the starting year\n",
    "starting_year = "
   ]
  },
  {
   "cell_type": "code",
   "execution_count": null,
   "id": "b6b4528a-e638-4cdf-976b-3fbe2730b2d0",
   "metadata": {},
   "outputs": [],
   "source": [
    "# This cell filters the data based on the starting_year\n",
    "\n",
    "# Identify all rows where the starting year (as an integer) is greater than or equal to the set starting_year\n",
    "events_post_start_year = logging_season_data.loc[:, \"STARTYEAR_INTEGER\"] >= starting_year\n",
    "\n",
    "# Create a new table containing only the rows where the logging event occured during or after the starting year\n",
    "logging_events_for_analysis = logging_season_data.loc[events_post_start_year, :]\n",
    "\n",
    "# Display the number of logging events remaining\n",
    "print(f\"The number of logging events that occur during or after {starting_year} is {len(logging_events_for_analysis)}\")"
   ]
  },
  {
   "cell_type": "markdown",
   "id": "c522ec13-7053-431a-93ac-2fe11be99ee6",
   "metadata": {},
   "source": [
    "**Code Explanation**\n",
    "> The code above uses `loc` in two ways\n",
    "> \n",
    "> * The first line of code identifies all rows (using `:`) where the value in the `\"STARTYEAR_INTEGER\"` column is greater or equal to (`>=`) the `starting_year` value. This produces a value of `True` or `False` for each row. These results are then assigned to `events_post_start_year`.\n",
    "> * The second line of code filters the data by locating the rows where the `events_post_start_year` value is `True` and assigns it to `logging_events_for_analysis`.\n",
    ">\n",
    "> Finally, the last line of code uses a special print statement to display the results, substituting in any values for the variables inside the `{}`. In this code, the Python function `len()` is used to count the number of rows in the filtered GeoDataFrame."
   ]
  },
  {
   "cell_type": "markdown",
   "id": "c3811705-6f1c-4990-80e7-36bc24a320e9",
   "metadata": {},
   "source": [
    "### Exercise: Changing the year\n",
    "\n",
    "You can change the value of the starting year to identify different selections of logging events. \n",
    "\n",
    "### <span style=\"color:blue;font-weight:bold\">Your task</span>\n",
    "> Edit the `starting_year value` above and rerun the two cells above to see the number of logging events occuring during and after both 2015 and 2016. Record the number of events for each value of `starting_year` below.\n",
    "> Double click the text below to add your answers for each year."
   ]
  },
  {
   "cell_type": "markdown",
   "id": "5d636771-676e-47c9-b7ce-3071dd2a69e6",
   "metadata": {},
   "source": [
    "Number of logging events during and after each starting year:\n",
    "\n",
    "**2015**:\n",
    "\n",
    "**2016**:\n",
    "\n",
    "**2017**: 1371"
   ]
  },
  {
   "cell_type": "markdown",
   "id": "f4e9092c-9680-4f8e-9811-77ea0ec7db5c",
   "metadata": {},
   "source": [
    "### Exercise: Choosing a year\n",
    "\n",
    "Based on your results above, decide which year you want to use to filter your dataset. **There is no right or wrong answer**, all the years are likely to have some Sentinel-2 data available around the time of the logging event. \n",
    "\n",
    "\n",
    "### <span style=\"color:blue;font-weight:bold\">Your task</span>\n",
    "> Set the `starting_year` value above to the year of your choice, and re-run both cells."
   ]
  },
  {
   "cell_type": "markdown",
   "id": "ca7248a6-3d9e-4f68-aec1-64d6fe63884d",
   "metadata": {},
   "source": [
    "## Explore the data\n",
    "\n",
    "Your colleague recommends two useful **methods** for viewing the data:\n",
    "\n",
    "- `.value_counts(subset=\"COLUMNNAME\")` which identifies all the unique values in a subset of the GeoDataFrame and counts how many times they occur.\n",
    "- `.explore(column=\"COLUMNNAME\")` which displays an interactive map of all the polygons in your dataset, colour-coded by the chosen column.\n",
    "\n",
    "Run the cells below to look at how the data are distributed across time:"
   ]
  },
  {
   "cell_type": "code",
   "execution_count": null,
   "id": "47254d90-d20e-422b-b1de-356a3b59c9d0",
   "metadata": {
    "tags": []
   },
   "outputs": [],
   "source": [
    "column_for_value_counts = \"STARTYEAR_STRING\"\n",
    "logging_events_for_analysis.value_counts(subset=column_for_value_counts)"
   ]
  },
  {
   "cell_type": "code",
   "execution_count": null,
   "id": "27c8d420-2811-49b0-aa2e-12cd38570219",
   "metadata": {
    "tags": []
   },
   "outputs": [],
   "source": [
    "column_for_explore = \"STARTYEAR_STRING\"\n",
    "logging_events_for_analysis.explore(column=column_for_explore)"
   ]
  },
  {
   "cell_type": "markdown",
   "id": "99d4cdfb-ebcd-406f-ae92-4efc7472d3be",
   "metadata": {
    "tags": []
   },
   "source": [
    "### Exercise: Explore other columns\n",
    "\n",
    "Your team is interested in the answers to the following questions:\n",
    "\n",
    "* **Question 1**: How often was the Single Tree Selection silvicultural system used?\n",
    "* **Question 2**: What was the most common silviculutral system used? \n",
    "* **Question 3**: What was the most common type of forest?\n",
    "* **Question 4**: Which two forest types appear most commonly around Bairnsdale?\n",
    "\n",
    "### <span style=\"color:blue;font-weight:bold\">Your task</span>\n",
    "> In the two cells below, assign a column name to the `column_for_value_counts` and `column_for_explore` variables, choosing the column name that will help you view the relevant data for each question. Review your earlier answers that describe each column if you're not sure which column to use.\n",
    ">\n",
    "> What's provided:\n",
    "> * The variables you'll assign the chosen column to: `column_for_value_counts` and `column_for_explore`.\n",
    "> * The `=` sign that will assign the results of any code that comes after it to the variables.\n",
    ">\n",
    "> What you'll need to add:\n",
    "> * After the `=` sign, type the name of the column that will select the relevant data for each question. Column names must be surrounded by quotation marks: `\"COLUMNNAME\"`\n",
    ">\n",
    "> When you have viewed the relevant data, add your answers to the four questions by double-clicking the <span style=\"color:blue;font-weight:bold\">Your answers</span> cell."
   ]
  },
  {
   "cell_type": "markdown",
   "id": "b450804e-3146-4963-9f88-c3ff769fac00",
   "metadata": {},
   "source": [
    "#### Code to count how many times each value appears in the column"
   ]
  },
  {
   "cell_type": "code",
   "execution_count": null,
   "id": "101e089a-da33-498e-859f-4d8ec7c43cf1",
   "metadata": {},
   "outputs": [],
   "source": [
    "# Assign the column name to the column_for_value_counts variable to view the relevant data for each question. You must keep the quote marks around the column name.\n",
    "column_for_value_counts = \n",
    "logging_events_for_analysis.value_counts(subset=column_for_value_counts)"
   ]
  },
  {
   "cell_type": "markdown",
   "id": "6ef0c860-803c-4bc7-8677-441d2a40c24f",
   "metadata": {},
   "source": [
    "#### Code to view all points on a map, colour-coded by the provided column"
   ]
  },
  {
   "cell_type": "code",
   "execution_count": null,
   "id": "09823dbe-dc0b-4f69-ae54-536f9ec8f3c0",
   "metadata": {},
   "outputs": [],
   "source": [
    "# Assign the column name to the column_for_explore variable to view the relevant data for each question. You must keep the quote marks around the column name.\n",
    "column_for_explore = \n",
    "logging_events_for_analysis.explore(column=column_for_explore)"
   ]
  },
  {
   "cell_type": "markdown",
   "id": "2d93e734-a3a3-454a-bf1d-0947dcbf0cca",
   "metadata": {},
   "source": [
    "### <span style=\"color:blue;font-weight:bold\">Your answers</span>\n",
    "\n",
    "**Question 1**: \n",
    "\n",
    "**Question 2**:\n",
    "\n",
    "**Question 3**:\n",
    "\n",
    "**Question 4**: \n",
    "\n"
   ]
  },
  {
   "cell_type": "markdown",
   "id": "4a85bac2-5be8-4fc2-b804-16fec64afb77",
   "metadata": {},
   "source": [
    "### <span style=\"color:orange;font-weight:bold\">Going further</span>\n",
    "> This is an optional exercise to further your own understanding. There are no questions to answer for this component.\n",
    "> \n",
    "> What else can you learn from using the `.value_counts()` and `.explore()` methods? Try setting different columns as the values for the variables above and re-run the cells."
   ]
  },
  {
   "cell_type": "markdown",
   "id": "6e088445-c28e-4591-a9c1-fc080f6671bd",
   "metadata": {},
   "source": [
    "## Export your cleaned and filtered data for use in the next step\n",
    "\n",
    "Now that you know a bit more about the data, and have cleaned and filtered it, you can save a copy to work with in the next stage, where you'll find satellite imagery that was captured before and after the logging event.\n",
    "\n",
    "Run the next cell to save your cleaned data to a new GeoPackage, which will allow you to use your filtered data in the next stage. "
   ]
  },
  {
   "cell_type": "code",
   "execution_count": null,
   "id": "a2e48cb5-72da-4a7d-9f70-e11e9485a972",
   "metadata": {},
   "outputs": [],
   "source": [
    "logging_events_for_analysis.to_file(\"LOG_SEASON_FILTERED.gpkg\")"
   ]
  },
  {
   "cell_type": "markdown",
   "id": "d0010b16-f29b-4165-88ac-6c0483def6f4",
   "metadata": {},
   "source": [
    "## Submit your work\n",
    "\n",
    "1. Ensure you have added answers to all the questions and save your file (in the menu bar, click File > Save Notebook).\n",
    "\n",
    "2. In the file browser, right-click the `prac1_logging_site_selection.ipynb` file, and press \"Download\"\n",
    "\n",
    "3. Email the downloaded file to caitlinisabeladams@swin.edu.au"
   ]
  }
 ],
 "metadata": {
  "kernelspec": {
   "display_name": "Python 3 (ipykernel)",
   "language": "python",
   "name": "python3"
  },
  "language_info": {
   "codemirror_mode": {
    "name": "ipython",
    "version": 3
   },
   "file_extension": ".py",
   "mimetype": "text/x-python",
   "name": "python",
   "nbconvert_exporter": "python",
   "pygments_lexer": "ipython3",
   "version": "3.8.10"
  }
 },
 "nbformat": 4,
 "nbformat_minor": 5
}
