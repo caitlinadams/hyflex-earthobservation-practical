{
 "cells": [
  {
   "cell_type": "markdown",
   "id": "db48afad-0d8c-4914-970e-66f7baeb5866",
   "metadata": {},
   "source": [
    "# Monitoring Logging Coupes in Victoria"
   ]
  },
  {
   "cell_type": "markdown",
   "id": "861b1ee6-a12c-40eb-8232-60daacfa64e1",
   "metadata": {},
   "source": [
    "## Set up your workspace"
   ]
  },
  {
   "cell_type": "code",
   "execution_count": null,
   "id": "ae0b2aec-9f91-4031-8068-8352eafc59f9",
   "metadata": {},
   "outputs": [],
   "source": [
    "import geopandas as gpd"
   ]
  },
  {
   "cell_type": "markdown",
   "id": "5ad85bb3-a483-4912-9af0-2e650889481f",
   "metadata": {},
   "source": [
    "## Load spatial file with coupes"
   ]
  },
  {
   "cell_type": "code",
   "execution_count": null,
   "id": "8902adc8-da96-4cc7-afb8-0534d92a9706",
   "metadata": {},
   "outputs": [],
   "source": [
    "log_season_gdf = gpd.read_file(\"data/LOG_SEASON.shp\")"
   ]
  },
  {
   "cell_type": "markdown",
   "id": "994e1e79-b812-465e-8796-bcb4899e469b",
   "metadata": {},
   "source": [
    "## Initial exploration"
   ]
  },
  {
   "cell_type": "code",
   "execution_count": null,
   "id": "bd55e546-1426-4185-a8df-b2fa2ff627d3",
   "metadata": {},
   "outputs": [],
   "source": [
    "log_season_gdf.head()"
   ]
  },
  {
   "cell_type": "code",
   "execution_count": null,
   "id": "22e46d6e-ea62-44fc-a487-415e8c4d4e7b",
   "metadata": {},
   "outputs": [],
   "source": [
    "log_season_gdf.head().explore()"
   ]
  },
  {
   "cell_type": "markdown",
   "id": "cff0f294-0734-4c42-b401-882db50e6488",
   "metadata": {},
   "source": [
    "## Data Cleaning"
   ]
  },
  {
   "cell_type": "code",
   "execution_count": null,
   "id": "5f0216e0-0829-4e80-a2fa-d5093f44f722",
   "metadata": {},
   "outputs": [],
   "source": [
    "log_season_gdf.loc[log_season_gdf[\"STARTDATE\"].isnull() | log_season_gdf[\"ENDDATE\"].isnull()][\"SEASON\"].value_counts()"
   ]
  },
  {
   "cell_type": "code",
   "execution_count": null,
   "id": "35a91fe4-b0c7-4ff1-b694-744bde9683bb",
   "metadata": {},
   "outputs": [],
   "source": [
    "# Remove null geometries\n",
    "log_season_gdf = log_season_gdf.loc[log_season_gdf.geometry.notnull(), :]\n",
    "\n",
    "# Remove all rows that are missing either the start date or end date\n",
    "log_season_gdf = log_season_gdf.loc[log_season_gdf[\"STARTDATE\"].isnull() | log_season_gdf[\"ENDDATE\"].isnull(), :]"
   ]
  },
  {
   "cell_type": "code",
   "execution_count": null,
   "id": "c05355db-374a-4d28-ba11-4f1aff2c9d3a",
   "metadata": {},
   "outputs": [],
   "source": [
    "log_season_gdf"
   ]
  },
  {
   "cell_type": "code",
   "execution_count": null,
   "id": "419c701e-eb14-48d6-9806-2ca1edfd0f8f",
   "metadata": {},
   "outputs": [],
   "source": [
    "# Convert SEASON string into years\n",
    "log_season_gdf.loc[:, \"STARTYEAR\"] = (log_season_gdf.loc[:, \"SEASON\"].str[0:4]).astype(int)"
   ]
  },
  {
   "cell_type": "markdown",
   "id": "e1c54168-cd9d-47d1-9311-cb9b7648679f",
   "metadata": {},
   "source": [
    "## Data Filtering"
   ]
  },
  {
   "cell_type": "code",
   "execution_count": null,
   "id": "8302d70e-f0ef-4936-bade-b3b87c5bf94c",
   "metadata": {},
   "outputs": [],
   "source": [
    "# Set start year (1980ish for Landsat, 2017ish for Sentinel2)\n",
    "starting_year = 2015"
   ]
  },
  {
   "cell_type": "code",
   "execution_count": null,
   "id": "a5e9f7de-71fb-4e8a-bd85-93c5d6ed8bac",
   "metadata": {},
   "outputs": [],
   "source": [
    "log_season_gdf.loc[log_season_gdf.loc[:, \"STARTYEAR\"] >= starting_year].explore()"
   ]
  },
  {
   "cell_type": "code",
   "execution_count": null,
   "id": "7fc2a837-b274-4726-9b94-b7b9140c8b9b",
   "metadata": {},
   "outputs": [],
   "source": []
  }
 ],
 "metadata": {
  "kernelspec": {
   "display_name": "Python 3 (ipykernel)",
   "language": "python",
   "name": "python3"
  },
  "language_info": {
   "codemirror_mode": {
    "name": "ipython",
    "version": 3
   },
   "file_extension": ".py",
   "mimetype": "text/x-python",
   "name": "python",
   "nbconvert_exporter": "python",
   "pygments_lexer": "ipython3",
   "version": "3.8.10"
  }
 },
 "nbformat": 4,
 "nbformat_minor": 5
}
